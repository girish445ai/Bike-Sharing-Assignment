{
 "cells": [
  {
   "cell_type": "markdown",
   "id": "9c1485cf",
   "metadata": {},
   "source": [
    "# Bike Sharing Assignment "
   ]
  },
  {
   "cell_type": "markdown",
   "id": "45f492b8",
   "metadata": {},
   "source": [
    "## Problem Statement"
   ]
  },
  {
   "cell_type": "markdown",
   "id": "b42db9a6",
   "metadata": {},
   "source": [
    "A bike-sharing system is a service in which bikes are made available for shared use to individuals on a short term basis for a price or free. Many bike share systems allow people to borrow a bike from a \"dock\" which is usually computer-controlled wherein the user enters the payment information, and the system unlocks it. This bike can then be returned to another dock belonging to the same system.\n",
    "\n",
    "\n",
    "A US bike-sharing provider BoomBikes has recently suffered considerable dips in their revenues due to the ongoing Corona pandemic. The company is finding it very difficult to sustain in the current market scenario. So, it has decided to come up with a mindful business plan to be able to accelerate its revenue as soon as the ongoing lockdown comes to an end, and the economy restores to a healthy state. \n",
    "\n",
    "\n",
    "In such an attempt, BoomBikes aspires to understand the demand for shared bikes among the people after this ongoing quarantine situation ends across the nation due to Covid-19. They have planned this to prepare themselves to cater to the people's needs once the situation gets better all around and stand out from other service providers and make huge profits.\n",
    "\n",
    "\n",
    "They have contracted a consulting company to understand the factors on which the demand for these shared bikes depends. Specifically, they want to understand the factors affecting the demand for these shared bikes in the American market. The company wants to know:\n",
    "\n",
    "**1)Which variables are significant in predicting the demand for shared bikes.**\n",
    "\n",
    "**2)How well those variables describe the bike demands.**"
   ]
  },
  {
   "cell_type": "markdown",
   "id": "304858d8",
   "metadata": {},
   "source": [
    "## Data understanding, preparation and EDA"
   ]
  },
  {
   "cell_type": "code",
   "execution_count": 71,
   "id": "7270fd03",
   "metadata": {},
   "outputs": [],
   "source": [
    "import numpy as np\n",
    "import pandas as pd\n",
    "import matplotlib.pyplot as plt\n",
    "import seaborn as sns\n",
    "%matplotlib inline"
   ]
  },
  {
   "cell_type": "code",
   "execution_count": 72,
   "id": "bfb41842",
   "metadata": {},
   "outputs": [],
   "source": [
    "import warnings\n",
    "warnings.filterwarnings('ignore')"
   ]
  },
  {
   "cell_type": "code",
   "execution_count": 73,
   "id": "4753a9fe",
   "metadata": {},
   "outputs": [],
   "source": [
    "import sklearn\n",
    "from sklearn.preprocessing import MinMaxScaler\n",
    "from sklearn.linear_model import LinearRegression\n",
    "from sklearn.feature_selection import RFE\n",
    "from sklearn.metrics import r2_score\n",
    "\n",
    "from math import sqrt"
   ]
  },
  {
   "cell_type": "code",
   "execution_count": 74,
   "id": "a8e2e737",
   "metadata": {},
   "outputs": [],
   "source": [
    "from sklearn.model_selection import train_test_split\n",
    "from sklearn.preprocessing import StandardScaler\n",
    "import statsmodels.api as sm\n",
    "from statsmodels.stats.outliers_influence import variance_inflation_factor"
   ]
  },
  {
   "cell_type": "code",
   "execution_count": 75,
   "id": "3e0264b7",
   "metadata": {},
   "outputs": [],
   "source": [
    "#Read the csv file using pandas\n",
    "bikeSharing_df = pd.read_csv('day.csv')"
   ]
  },
  {
   "cell_type": "code",
   "execution_count": 76,
   "id": "7cf2e17a",
   "metadata": {},
   "outputs": [
    {
     "data": {
      "text/html": [
       "<div>\n",
       "<style scoped>\n",
       "    .dataframe tbody tr th:only-of-type {\n",
       "        vertical-align: middle;\n",
       "    }\n",
       "\n",
       "    .dataframe tbody tr th {\n",
       "        vertical-align: top;\n",
       "    }\n",
       "\n",
       "    .dataframe thead th {\n",
       "        text-align: right;\n",
       "    }\n",
       "</style>\n",
       "<table border=\"1\" class=\"dataframe\">\n",
       "  <thead>\n",
       "    <tr style=\"text-align: right;\">\n",
       "      <th></th>\n",
       "      <th>instant</th>\n",
       "      <th>dteday</th>\n",
       "      <th>season</th>\n",
       "      <th>yr</th>\n",
       "      <th>mnth</th>\n",
       "      <th>holiday</th>\n",
       "      <th>weekday</th>\n",
       "      <th>workingday</th>\n",
       "      <th>weathersit</th>\n",
       "      <th>temp</th>\n",
       "      <th>atemp</th>\n",
       "      <th>hum</th>\n",
       "      <th>windspeed</th>\n",
       "      <th>casual</th>\n",
       "      <th>registered</th>\n",
       "      <th>cnt</th>\n",
       "    </tr>\n",
       "  </thead>\n",
       "  <tbody>\n",
       "    <tr>\n",
       "      <th>0</th>\n",
       "      <td>1</td>\n",
       "      <td>01-01-2018</td>\n",
       "      <td>1</td>\n",
       "      <td>0</td>\n",
       "      <td>1</td>\n",
       "      <td>0</td>\n",
       "      <td>6</td>\n",
       "      <td>0</td>\n",
       "      <td>2</td>\n",
       "      <td>14.110847</td>\n",
       "      <td>18.18125</td>\n",
       "      <td>80.5833</td>\n",
       "      <td>10.749882</td>\n",
       "      <td>331</td>\n",
       "      <td>654</td>\n",
       "      <td>985</td>\n",
       "    </tr>\n",
       "    <tr>\n",
       "      <th>1</th>\n",
       "      <td>2</td>\n",
       "      <td>02-01-2018</td>\n",
       "      <td>1</td>\n",
       "      <td>0</td>\n",
       "      <td>1</td>\n",
       "      <td>0</td>\n",
       "      <td>0</td>\n",
       "      <td>0</td>\n",
       "      <td>2</td>\n",
       "      <td>14.902598</td>\n",
       "      <td>17.68695</td>\n",
       "      <td>69.6087</td>\n",
       "      <td>16.652113</td>\n",
       "      <td>131</td>\n",
       "      <td>670</td>\n",
       "      <td>801</td>\n",
       "    </tr>\n",
       "    <tr>\n",
       "      <th>2</th>\n",
       "      <td>3</td>\n",
       "      <td>03-01-2018</td>\n",
       "      <td>1</td>\n",
       "      <td>0</td>\n",
       "      <td>1</td>\n",
       "      <td>0</td>\n",
       "      <td>1</td>\n",
       "      <td>1</td>\n",
       "      <td>1</td>\n",
       "      <td>8.050924</td>\n",
       "      <td>9.47025</td>\n",
       "      <td>43.7273</td>\n",
       "      <td>16.636703</td>\n",
       "      <td>120</td>\n",
       "      <td>1229</td>\n",
       "      <td>1349</td>\n",
       "    </tr>\n",
       "    <tr>\n",
       "      <th>3</th>\n",
       "      <td>4</td>\n",
       "      <td>04-01-2018</td>\n",
       "      <td>1</td>\n",
       "      <td>0</td>\n",
       "      <td>1</td>\n",
       "      <td>0</td>\n",
       "      <td>2</td>\n",
       "      <td>1</td>\n",
       "      <td>1</td>\n",
       "      <td>8.200000</td>\n",
       "      <td>10.60610</td>\n",
       "      <td>59.0435</td>\n",
       "      <td>10.739832</td>\n",
       "      <td>108</td>\n",
       "      <td>1454</td>\n",
       "      <td>1562</td>\n",
       "    </tr>\n",
       "    <tr>\n",
       "      <th>4</th>\n",
       "      <td>5</td>\n",
       "      <td>05-01-2018</td>\n",
       "      <td>1</td>\n",
       "      <td>0</td>\n",
       "      <td>1</td>\n",
       "      <td>0</td>\n",
       "      <td>3</td>\n",
       "      <td>1</td>\n",
       "      <td>1</td>\n",
       "      <td>9.305237</td>\n",
       "      <td>11.46350</td>\n",
       "      <td>43.6957</td>\n",
       "      <td>12.522300</td>\n",
       "      <td>82</td>\n",
       "      <td>1518</td>\n",
       "      <td>1600</td>\n",
       "    </tr>\n",
       "  </tbody>\n",
       "</table>\n",
       "</div>"
      ],
      "text/plain": [
       "   instant      dteday  season  yr  mnth  holiday  weekday  workingday  \\\n",
       "0        1  01-01-2018       1   0     1        0        6           0   \n",
       "1        2  02-01-2018       1   0     1        0        0           0   \n",
       "2        3  03-01-2018       1   0     1        0        1           1   \n",
       "3        4  04-01-2018       1   0     1        0        2           1   \n",
       "4        5  05-01-2018       1   0     1        0        3           1   \n",
       "\n",
       "   weathersit       temp     atemp      hum  windspeed  casual  registered  \\\n",
       "0           2  14.110847  18.18125  80.5833  10.749882     331         654   \n",
       "1           2  14.902598  17.68695  69.6087  16.652113     131         670   \n",
       "2           1   8.050924   9.47025  43.7273  16.636703     120        1229   \n",
       "3           1   8.200000  10.60610  59.0435  10.739832     108        1454   \n",
       "4           1   9.305237  11.46350  43.6957  12.522300      82        1518   \n",
       "\n",
       "    cnt  \n",
       "0   985  \n",
       "1   801  \n",
       "2  1349  \n",
       "3  1562  \n",
       "4  1600  "
      ]
     },
     "execution_count": 76,
     "metadata": {},
     "output_type": "execute_result"
    }
   ],
   "source": [
    "#Inspect first few rows\n",
    "bikeSharing_df.head()"
   ]
  },
  {
   "cell_type": "code",
   "execution_count": 77,
   "id": "a427f209",
   "metadata": {},
   "outputs": [
    {
     "data": {
      "text/plain": [
       "(730, 16)"
      ]
     },
     "execution_count": 77,
     "metadata": {},
     "output_type": "execute_result"
    }
   ],
   "source": [
    "#check the shape\n",
    "bikeSharing_df.shape"
   ]
  },
  {
   "cell_type": "code",
   "execution_count": 78,
   "id": "d3390c7c",
   "metadata": {},
   "outputs": [
    {
     "name": "stdout",
     "output_type": "stream",
     "text": [
      "<class 'pandas.core.frame.DataFrame'>\n",
      "RangeIndex: 730 entries, 0 to 729\n",
      "Data columns (total 16 columns):\n",
      " #   Column      Non-Null Count  Dtype  \n",
      "---  ------      --------------  -----  \n",
      " 0   instant     730 non-null    int64  \n",
      " 1   dteday      730 non-null    object \n",
      " 2   season      730 non-null    int64  \n",
      " 3   yr          730 non-null    int64  \n",
      " 4   mnth        730 non-null    int64  \n",
      " 5   holiday     730 non-null    int64  \n",
      " 6   weekday     730 non-null    int64  \n",
      " 7   workingday  730 non-null    int64  \n",
      " 8   weathersit  730 non-null    int64  \n",
      " 9   temp        730 non-null    float64\n",
      " 10  atemp       730 non-null    float64\n",
      " 11  hum         730 non-null    float64\n",
      " 12  windspeed   730 non-null    float64\n",
      " 13  casual      730 non-null    int64  \n",
      " 14  registered  730 non-null    int64  \n",
      " 15  cnt         730 non-null    int64  \n",
      "dtypes: float64(4), int64(11), object(1)\n",
      "memory usage: 91.4+ KB\n"
     ]
    }
   ],
   "source": [
    "#check dataframe for null and datatype \n",
    "bikeSharing_df.info()"
   ]
  },
  {
   "cell_type": "code",
   "execution_count": 79,
   "id": "7ca40a08",
   "metadata": {},
   "outputs": [
    {
     "data": {
      "text/html": [
       "<div>\n",
       "<style scoped>\n",
       "    .dataframe tbody tr th:only-of-type {\n",
       "        vertical-align: middle;\n",
       "    }\n",
       "\n",
       "    .dataframe tbody tr th {\n",
       "        vertical-align: top;\n",
       "    }\n",
       "\n",
       "    .dataframe thead th {\n",
       "        text-align: right;\n",
       "    }\n",
       "</style>\n",
       "<table border=\"1\" class=\"dataframe\">\n",
       "  <thead>\n",
       "    <tr style=\"text-align: right;\">\n",
       "      <th></th>\n",
       "      <th>instant</th>\n",
       "      <th>season</th>\n",
       "      <th>yr</th>\n",
       "      <th>mnth</th>\n",
       "      <th>holiday</th>\n",
       "      <th>weekday</th>\n",
       "      <th>workingday</th>\n",
       "      <th>weathersit</th>\n",
       "      <th>temp</th>\n",
       "      <th>atemp</th>\n",
       "      <th>hum</th>\n",
       "      <th>windspeed</th>\n",
       "      <th>casual</th>\n",
       "      <th>registered</th>\n",
       "      <th>cnt</th>\n",
       "    </tr>\n",
       "  </thead>\n",
       "  <tbody>\n",
       "    <tr>\n",
       "      <th>count</th>\n",
       "      <td>730.000000</td>\n",
       "      <td>730.000000</td>\n",
       "      <td>730.000000</td>\n",
       "      <td>730.000000</td>\n",
       "      <td>730.000000</td>\n",
       "      <td>730.000000</td>\n",
       "      <td>730.000000</td>\n",
       "      <td>730.000000</td>\n",
       "      <td>730.000000</td>\n",
       "      <td>730.000000</td>\n",
       "      <td>730.000000</td>\n",
       "      <td>730.000000</td>\n",
       "      <td>730.000000</td>\n",
       "      <td>730.000000</td>\n",
       "      <td>730.000000</td>\n",
       "    </tr>\n",
       "    <tr>\n",
       "      <th>mean</th>\n",
       "      <td>365.500000</td>\n",
       "      <td>2.498630</td>\n",
       "      <td>0.500000</td>\n",
       "      <td>6.526027</td>\n",
       "      <td>0.028767</td>\n",
       "      <td>2.997260</td>\n",
       "      <td>0.683562</td>\n",
       "      <td>1.394521</td>\n",
       "      <td>20.319259</td>\n",
       "      <td>23.726322</td>\n",
       "      <td>62.765175</td>\n",
       "      <td>12.763620</td>\n",
       "      <td>849.249315</td>\n",
       "      <td>3658.757534</td>\n",
       "      <td>4508.006849</td>\n",
       "    </tr>\n",
       "    <tr>\n",
       "      <th>std</th>\n",
       "      <td>210.877136</td>\n",
       "      <td>1.110184</td>\n",
       "      <td>0.500343</td>\n",
       "      <td>3.450215</td>\n",
       "      <td>0.167266</td>\n",
       "      <td>2.006161</td>\n",
       "      <td>0.465405</td>\n",
       "      <td>0.544807</td>\n",
       "      <td>7.506729</td>\n",
       "      <td>8.150308</td>\n",
       "      <td>14.237589</td>\n",
       "      <td>5.195841</td>\n",
       "      <td>686.479875</td>\n",
       "      <td>1559.758728</td>\n",
       "      <td>1936.011647</td>\n",
       "    </tr>\n",
       "    <tr>\n",
       "      <th>min</th>\n",
       "      <td>1.000000</td>\n",
       "      <td>1.000000</td>\n",
       "      <td>0.000000</td>\n",
       "      <td>1.000000</td>\n",
       "      <td>0.000000</td>\n",
       "      <td>0.000000</td>\n",
       "      <td>0.000000</td>\n",
       "      <td>1.000000</td>\n",
       "      <td>2.424346</td>\n",
       "      <td>3.953480</td>\n",
       "      <td>0.000000</td>\n",
       "      <td>1.500244</td>\n",
       "      <td>2.000000</td>\n",
       "      <td>20.000000</td>\n",
       "      <td>22.000000</td>\n",
       "    </tr>\n",
       "    <tr>\n",
       "      <th>25%</th>\n",
       "      <td>183.250000</td>\n",
       "      <td>2.000000</td>\n",
       "      <td>0.000000</td>\n",
       "      <td>4.000000</td>\n",
       "      <td>0.000000</td>\n",
       "      <td>1.000000</td>\n",
       "      <td>0.000000</td>\n",
       "      <td>1.000000</td>\n",
       "      <td>13.811885</td>\n",
       "      <td>16.889713</td>\n",
       "      <td>52.000000</td>\n",
       "      <td>9.041650</td>\n",
       "      <td>316.250000</td>\n",
       "      <td>2502.250000</td>\n",
       "      <td>3169.750000</td>\n",
       "    </tr>\n",
       "    <tr>\n",
       "      <th>50%</th>\n",
       "      <td>365.500000</td>\n",
       "      <td>3.000000</td>\n",
       "      <td>0.500000</td>\n",
       "      <td>7.000000</td>\n",
       "      <td>0.000000</td>\n",
       "      <td>3.000000</td>\n",
       "      <td>1.000000</td>\n",
       "      <td>1.000000</td>\n",
       "      <td>20.465826</td>\n",
       "      <td>24.368225</td>\n",
       "      <td>62.625000</td>\n",
       "      <td>12.125325</td>\n",
       "      <td>717.000000</td>\n",
       "      <td>3664.500000</td>\n",
       "      <td>4548.500000</td>\n",
       "    </tr>\n",
       "    <tr>\n",
       "      <th>75%</th>\n",
       "      <td>547.750000</td>\n",
       "      <td>3.000000</td>\n",
       "      <td>1.000000</td>\n",
       "      <td>10.000000</td>\n",
       "      <td>0.000000</td>\n",
       "      <td>5.000000</td>\n",
       "      <td>1.000000</td>\n",
       "      <td>2.000000</td>\n",
       "      <td>26.880615</td>\n",
       "      <td>30.445775</td>\n",
       "      <td>72.989575</td>\n",
       "      <td>15.625589</td>\n",
       "      <td>1096.500000</td>\n",
       "      <td>4783.250000</td>\n",
       "      <td>5966.000000</td>\n",
       "    </tr>\n",
       "    <tr>\n",
       "      <th>max</th>\n",
       "      <td>730.000000</td>\n",
       "      <td>4.000000</td>\n",
       "      <td>1.000000</td>\n",
       "      <td>12.000000</td>\n",
       "      <td>1.000000</td>\n",
       "      <td>6.000000</td>\n",
       "      <td>1.000000</td>\n",
       "      <td>3.000000</td>\n",
       "      <td>35.328347</td>\n",
       "      <td>42.044800</td>\n",
       "      <td>97.250000</td>\n",
       "      <td>34.000021</td>\n",
       "      <td>3410.000000</td>\n",
       "      <td>6946.000000</td>\n",
       "      <td>8714.000000</td>\n",
       "    </tr>\n",
       "  </tbody>\n",
       "</table>\n",
       "</div>"
      ],
      "text/plain": [
       "          instant      season          yr        mnth     holiday     weekday  \\\n",
       "count  730.000000  730.000000  730.000000  730.000000  730.000000  730.000000   \n",
       "mean   365.500000    2.498630    0.500000    6.526027    0.028767    2.997260   \n",
       "std    210.877136    1.110184    0.500343    3.450215    0.167266    2.006161   \n",
       "min      1.000000    1.000000    0.000000    1.000000    0.000000    0.000000   \n",
       "25%    183.250000    2.000000    0.000000    4.000000    0.000000    1.000000   \n",
       "50%    365.500000    3.000000    0.500000    7.000000    0.000000    3.000000   \n",
       "75%    547.750000    3.000000    1.000000   10.000000    0.000000    5.000000   \n",
       "max    730.000000    4.000000    1.000000   12.000000    1.000000    6.000000   \n",
       "\n",
       "       workingday  weathersit        temp       atemp         hum   windspeed  \\\n",
       "count  730.000000  730.000000  730.000000  730.000000  730.000000  730.000000   \n",
       "mean     0.683562    1.394521   20.319259   23.726322   62.765175   12.763620   \n",
       "std      0.465405    0.544807    7.506729    8.150308   14.237589    5.195841   \n",
       "min      0.000000    1.000000    2.424346    3.953480    0.000000    1.500244   \n",
       "25%      0.000000    1.000000   13.811885   16.889713   52.000000    9.041650   \n",
       "50%      1.000000    1.000000   20.465826   24.368225   62.625000   12.125325   \n",
       "75%      1.000000    2.000000   26.880615   30.445775   72.989575   15.625589   \n",
       "max      1.000000    3.000000   35.328347   42.044800   97.250000   34.000021   \n",
       "\n",
       "            casual   registered          cnt  \n",
       "count   730.000000   730.000000   730.000000  \n",
       "mean    849.249315  3658.757534  4508.006849  \n",
       "std     686.479875  1559.758728  1936.011647  \n",
       "min       2.000000    20.000000    22.000000  \n",
       "25%     316.250000  2502.250000  3169.750000  \n",
       "50%     717.000000  3664.500000  4548.500000  \n",
       "75%    1096.500000  4783.250000  5966.000000  \n",
       "max    3410.000000  6946.000000  8714.000000  "
      ]
     },
     "execution_count": 79,
     "metadata": {},
     "output_type": "execute_result"
    }
   ],
   "source": [
    "#check the details of numeriacl data\n",
    "bikeSharing_df.describe()"
   ]
  },
  {
   "cell_type": "code",
   "execution_count": 80,
   "id": "91207296",
   "metadata": {},
   "outputs": [
    {
     "data": {
      "text/plain": [
       "Index(['instant', 'dteday', 'season', 'yr', 'mnth', 'holiday', 'weekday',\n",
       "       'workingday', 'weathersit', 'temp', 'atemp', 'hum', 'windspeed',\n",
       "       'casual', 'registered', 'cnt'],\n",
       "      dtype='object')"
      ]
     },
     "execution_count": 80,
     "metadata": {},
     "output_type": "execute_result"
    }
   ],
   "source": [
    "#check the columns of data\n",
    "bikeSharing_df.columns"
   ]
  },
  {
   "cell_type": "code",
   "execution_count": 81,
   "id": "d47cf805",
   "metadata": {},
   "outputs": [
    {
     "data": {
      "text/plain": [
       "instant         int64\n",
       "dteday         object\n",
       "season          int64\n",
       "yr              int64\n",
       "mnth            int64\n",
       "holiday         int64\n",
       "weekday         int64\n",
       "workingday      int64\n",
       "weathersit      int64\n",
       "temp          float64\n",
       "atemp         float64\n",
       "hum           float64\n",
       "windspeed     float64\n",
       "casual          int64\n",
       "registered      int64\n",
       "cnt             int64\n",
       "dtype: object"
      ]
     },
     "execution_count": 81,
     "metadata": {},
     "output_type": "execute_result"
    }
   ],
   "source": [
    "#check the datatypes of data\n",
    "bikeSharing_df.dtypes"
   ]
  },
  {
   "cell_type": "markdown",
   "id": "a3c6b4b8",
   "metadata": {},
   "source": [
    "### Data preparation"
   ]
  },
  {
   "cell_type": "markdown",
   "id": "f5d3a580",
   "metadata": {},
   "source": [
    "Dropping columns that are not useful for analysis"
   ]
  },
  {
   "cell_type": "markdown",
   "id": "3bcab1a1",
   "metadata": {},
   "source": [
    "The column **instant** is showing just the index , we can drop the column."
   ]
  },
  {
   "cell_type": "code",
   "execution_count": 82,
   "id": "69af19ec",
   "metadata": {},
   "outputs": [],
   "source": [
    "bikeSharing_df.drop(['instant'], axis = 1, inplace = True)"
   ]
  },
  {
   "cell_type": "markdown",
   "id": "bcdbdf67",
   "metadata": {},
   "source": [
    "The column **dteday** can be removed as we have some of date features like mnth and year and weekday already in other columns ."
   ]
  },
  {
   "cell_type": "code",
   "execution_count": 83,
   "id": "34bee76c",
   "metadata": {},
   "outputs": [],
   "source": [
    "bikeSharing_df.drop(['dteday'], axis = 1, inplace = True)"
   ]
  },
  {
   "cell_type": "markdown",
   "id": "8e828ff6",
   "metadata": {},
   "source": [
    "We can Drop **casual** and **registered columns** as they are not related to the target column cnt.\n"
   ]
  },
  {
   "cell_type": "code",
   "execution_count": 84,
   "id": "73758860",
   "metadata": {},
   "outputs": [],
   "source": [
    "bikeSharing_df.drop(['casual'], axis = 1, inplace = True)\n",
    "bikeSharing_df.drop(['registered'], axis = 1, inplace = True)"
   ]
  },
  {
   "cell_type": "code",
   "execution_count": 85,
   "id": "a88bff2f",
   "metadata": {},
   "outputs": [
    {
     "data": {
      "text/html": [
       "<div>\n",
       "<style scoped>\n",
       "    .dataframe tbody tr th:only-of-type {\n",
       "        vertical-align: middle;\n",
       "    }\n",
       "\n",
       "    .dataframe tbody tr th {\n",
       "        vertical-align: top;\n",
       "    }\n",
       "\n",
       "    .dataframe thead th {\n",
       "        text-align: right;\n",
       "    }\n",
       "</style>\n",
       "<table border=\"1\" class=\"dataframe\">\n",
       "  <thead>\n",
       "    <tr style=\"text-align: right;\">\n",
       "      <th></th>\n",
       "      <th>season</th>\n",
       "      <th>yr</th>\n",
       "      <th>mnth</th>\n",
       "      <th>holiday</th>\n",
       "      <th>weekday</th>\n",
       "      <th>workingday</th>\n",
       "      <th>weathersit</th>\n",
       "      <th>temp</th>\n",
       "      <th>atemp</th>\n",
       "      <th>hum</th>\n",
       "      <th>windspeed</th>\n",
       "      <th>cnt</th>\n",
       "    </tr>\n",
       "  </thead>\n",
       "  <tbody>\n",
       "    <tr>\n",
       "      <th>0</th>\n",
       "      <td>1</td>\n",
       "      <td>0</td>\n",
       "      <td>1</td>\n",
       "      <td>0</td>\n",
       "      <td>6</td>\n",
       "      <td>0</td>\n",
       "      <td>2</td>\n",
       "      <td>14.110847</td>\n",
       "      <td>18.18125</td>\n",
       "      <td>80.5833</td>\n",
       "      <td>10.749882</td>\n",
       "      <td>985</td>\n",
       "    </tr>\n",
       "    <tr>\n",
       "      <th>1</th>\n",
       "      <td>1</td>\n",
       "      <td>0</td>\n",
       "      <td>1</td>\n",
       "      <td>0</td>\n",
       "      <td>0</td>\n",
       "      <td>0</td>\n",
       "      <td>2</td>\n",
       "      <td>14.902598</td>\n",
       "      <td>17.68695</td>\n",
       "      <td>69.6087</td>\n",
       "      <td>16.652113</td>\n",
       "      <td>801</td>\n",
       "    </tr>\n",
       "    <tr>\n",
       "      <th>2</th>\n",
       "      <td>1</td>\n",
       "      <td>0</td>\n",
       "      <td>1</td>\n",
       "      <td>0</td>\n",
       "      <td>1</td>\n",
       "      <td>1</td>\n",
       "      <td>1</td>\n",
       "      <td>8.050924</td>\n",
       "      <td>9.47025</td>\n",
       "      <td>43.7273</td>\n",
       "      <td>16.636703</td>\n",
       "      <td>1349</td>\n",
       "    </tr>\n",
       "    <tr>\n",
       "      <th>3</th>\n",
       "      <td>1</td>\n",
       "      <td>0</td>\n",
       "      <td>1</td>\n",
       "      <td>0</td>\n",
       "      <td>2</td>\n",
       "      <td>1</td>\n",
       "      <td>1</td>\n",
       "      <td>8.200000</td>\n",
       "      <td>10.60610</td>\n",
       "      <td>59.0435</td>\n",
       "      <td>10.739832</td>\n",
       "      <td>1562</td>\n",
       "    </tr>\n",
       "    <tr>\n",
       "      <th>4</th>\n",
       "      <td>1</td>\n",
       "      <td>0</td>\n",
       "      <td>1</td>\n",
       "      <td>0</td>\n",
       "      <td>3</td>\n",
       "      <td>1</td>\n",
       "      <td>1</td>\n",
       "      <td>9.305237</td>\n",
       "      <td>11.46350</td>\n",
       "      <td>43.6957</td>\n",
       "      <td>12.522300</td>\n",
       "      <td>1600</td>\n",
       "    </tr>\n",
       "  </tbody>\n",
       "</table>\n",
       "</div>"
      ],
      "text/plain": [
       "   season  yr  mnth  holiday  weekday  workingday  weathersit       temp  \\\n",
       "0       1   0     1        0        6           0           2  14.110847   \n",
       "1       1   0     1        0        0           0           2  14.902598   \n",
       "2       1   0     1        0        1           1           1   8.050924   \n",
       "3       1   0     1        0        2           1           1   8.200000   \n",
       "4       1   0     1        0        3           1           1   9.305237   \n",
       "\n",
       "      atemp      hum  windspeed   cnt  \n",
       "0  18.18125  80.5833  10.749882   985  \n",
       "1  17.68695  69.6087  16.652113   801  \n",
       "2   9.47025  43.7273  16.636703  1349  \n",
       "3  10.60610  59.0435  10.739832  1562  \n",
       "4  11.46350  43.6957  12.522300  1600  "
      ]
     },
     "execution_count": 85,
     "metadata": {},
     "output_type": "execute_result"
    }
   ],
   "source": [
    "#Inspect data frame after dropping\n",
    "bikeSharing_df.head()"
   ]
  },
  {
   "cell_type": "code",
   "execution_count": 86,
   "id": "7fb02648",
   "metadata": {},
   "outputs": [
    {
     "data": {
      "text/plain": [
       "season        0\n",
       "yr            0\n",
       "mnth          0\n",
       "holiday       0\n",
       "weekday       0\n",
       "workingday    0\n",
       "weathersit    0\n",
       "temp          0\n",
       "atemp         0\n",
       "hum           0\n",
       "windspeed     0\n",
       "cnt           0\n",
       "dtype: int64"
      ]
     },
     "execution_count": 86,
     "metadata": {},
     "output_type": "execute_result"
    }
   ],
   "source": [
    "# Handling Null values:  Print null counts by column\n",
    "bikeSharing_df.isnull().sum()"
   ]
  },
  {
   "cell_type": "code",
   "execution_count": 87,
   "id": "553be13f",
   "metadata": {},
   "outputs": [
    {
     "data": {
      "text/plain": [
       "season          4\n",
       "yr              2\n",
       "mnth           12\n",
       "holiday         2\n",
       "weekday         7\n",
       "workingday      2\n",
       "weathersit      3\n",
       "temp          498\n",
       "atemp         689\n",
       "hum           594\n",
       "windspeed     649\n",
       "cnt           695\n",
       "dtype: int64"
      ]
     },
     "execution_count": 87,
     "metadata": {},
     "output_type": "execute_result"
    }
   ],
   "source": [
    "#Print number of unique values in all columns\n",
    "bikeSharing_df.nunique()"
   ]
  },
  {
   "cell_type": "markdown",
   "id": "df6574cb",
   "metadata": {},
   "source": [
    "There are no null values and there is no column with one unique column. We can proceed for EDA part."
   ]
  },
  {
   "cell_type": "markdown",
   "id": "22af806e",
   "metadata": {},
   "source": [
    "## EDA"
   ]
  },
  {
   "cell_type": "code",
   "execution_count": 88,
   "id": "3260f2c7",
   "metadata": {},
   "outputs": [
    {
     "data": {
      "image/png": "[encoded data removed]",
      "text/plain": [
       "<Figure size 1296x288 with 4 Axes>"
      ]
     },
     "metadata": {
      "needs_background": "light"
     },
     "output_type": "display_data"
    }
   ],
   "source": [
    "# plotting boxplots for indepent variables with continuous values\n",
    "cols = ['temp', 'atemp', 'hum', 'windspeed']\n",
    "plt.figure(figsize=(18,4))\n",
    "\n",
    "i = 1\n",
    "for col in cols:\n",
    "    plt.subplot(1,4,i)\n",
    "    sns.boxplot(y=col, data=bikeSharing_df)\n",
    "    i+=1"
   ]
  },
  {
   "cell_type": "markdown",
   "id": "7d7deb96",
   "metadata": {},
   "source": [
    "**Observation**\n",
    "\n",
    "1.The temp and atemp data are nearly same spread.\n",
    "\n",
    "2.The humidity column have some outliers."
   ]
  },
  {
   "cell_type": "markdown",
   "id": "ab1ae9d3",
   "metadata": {},
   "source": [
    "### Visualising Numeric Variables"
   ]
  },
  {
   "cell_type": "markdown",
   "id": "09b75b94",
   "metadata": {},
   "source": [
    "Let's make a pairplot of all the numeric variables"
   ]
  },
  {
   "cell_type": "code",
   "execution_count": 89,
   "id": "ad32eb0e",
   "metadata": {},
   "outputs": [
    {
     "data": {
      "image/png": "[encoded data removed]",
      "text/plain": [
       "<Figure size 900x900 with 30 Axes>"
      ]
     },
     "metadata": {
      "needs_background": "light"
     },
     "output_type": "display_data"
    }
   ],
   "source": [
    "sns.pairplot(data=bikeSharing_df,vars=['cnt', 'temp', 'atemp', 'hum','windspeed'])\n",
    "plt.show()"
   ]
  },
  {
   "cell_type": "code",
   "execution_count": 90,
   "id": "2c5dffce",
   "metadata": {},
   "outputs": [
    {
     "data": {
      "image/png": "[encoded data removed]",
      "text/plain": [
       "<Figure size 432x288 with 2 Axes>"
      ]
     },
     "metadata": {
      "needs_background": "light"
     },
     "output_type": "display_data"
    }
   ],
   "source": [
    "# Checking continuous variables relationship with each other\n",
    "sns.heatmap(bikeSharing_df[['temp','atemp','hum','windspeed','cnt']].corr(), cmap='BuGn', annot = True)\n",
    "plt.show()"
   ]
  },
  {
   "cell_type": "markdown",
   "id": "838691dc",
   "metadata": {},
   "source": [
    "**Observation**:\n",
    "1. The variables and temp and atemp are having high linear relationship.\n",
    "2. The target variable cnt has some linear relationship with temp and atemp variables."
   ]
  },
  {
   "cell_type": "markdown",
   "id": "58e919cf",
   "metadata": {},
   "source": [
    "### CATEGORICAL VARIABLES:"
   ]
  },
  {
   "cell_type": "code",
   "execution_count": 91,
   "id": "2170214f",
   "metadata": {},
   "outputs": [],
   "source": [
    "### Converting some numeric values to categorical data\n",
    "import calendar\n",
    "bikeSharing_df['mnth'] = bikeSharing_df['mnth'].apply(lambda x: calendar.month_abbr[x])"
   ]
  },
  {
   "cell_type": "code",
   "execution_count": 92,
   "id": "2fa6568c",
   "metadata": {},
   "outputs": [
    {
     "data": {
      "text/html": [
       "<div>\n",
       "<style scoped>\n",
       "    .dataframe tbody tr th:only-of-type {\n",
       "        vertical-align: middle;\n",
       "    }\n",
       "\n",
       "    .dataframe tbody tr th {\n",
       "        vertical-align: top;\n",
       "    }\n",
       "\n",
       "    .dataframe thead th {\n",
       "        text-align: right;\n",
       "    }\n",
       "</style>\n",
       "<table border=\"1\" class=\"dataframe\">\n",
       "  <thead>\n",
       "    <tr style=\"text-align: right;\">\n",
       "      <th></th>\n",
       "      <th>season</th>\n",
       "      <th>yr</th>\n",
       "      <th>mnth</th>\n",
       "      <th>holiday</th>\n",
       "      <th>weekday</th>\n",
       "      <th>workingday</th>\n",
       "      <th>weathersit</th>\n",
       "      <th>temp</th>\n",
       "      <th>atemp</th>\n",
       "      <th>hum</th>\n",
       "      <th>windspeed</th>\n",
       "      <th>cnt</th>\n",
       "    </tr>\n",
       "  </thead>\n",
       "  <tbody>\n",
       "    <tr>\n",
       "      <th>0</th>\n",
       "      <td>spring</td>\n",
       "      <td>0</td>\n",
       "      <td>Jan</td>\n",
       "      <td>0</td>\n",
       "      <td>sat</td>\n",
       "      <td>0</td>\n",
       "      <td>Mist &amp; Cloudy</td>\n",
       "      <td>14.110847</td>\n",
       "      <td>18.18125</td>\n",
       "      <td>80.5833</td>\n",
       "      <td>10.749882</td>\n",
       "      <td>985</td>\n",
       "    </tr>\n",
       "    <tr>\n",
       "      <th>1</th>\n",
       "      <td>spring</td>\n",
       "      <td>0</td>\n",
       "      <td>Jan</td>\n",
       "      <td>0</td>\n",
       "      <td>sun</td>\n",
       "      <td>0</td>\n",
       "      <td>Mist &amp; Cloudy</td>\n",
       "      <td>14.902598</td>\n",
       "      <td>17.68695</td>\n",
       "      <td>69.6087</td>\n",
       "      <td>16.652113</td>\n",
       "      <td>801</td>\n",
       "    </tr>\n",
       "    <tr>\n",
       "      <th>2</th>\n",
       "      <td>spring</td>\n",
       "      <td>0</td>\n",
       "      <td>Jan</td>\n",
       "      <td>0</td>\n",
       "      <td>mon</td>\n",
       "      <td>1</td>\n",
       "      <td>Clear</td>\n",
       "      <td>8.050924</td>\n",
       "      <td>9.47025</td>\n",
       "      <td>43.7273</td>\n",
       "      <td>16.636703</td>\n",
       "      <td>1349</td>\n",
       "    </tr>\n",
       "    <tr>\n",
       "      <th>3</th>\n",
       "      <td>spring</td>\n",
       "      <td>0</td>\n",
       "      <td>Jan</td>\n",
       "      <td>0</td>\n",
       "      <td>tue</td>\n",
       "      <td>1</td>\n",
       "      <td>Clear</td>\n",
       "      <td>8.200000</td>\n",
       "      <td>10.60610</td>\n",
       "      <td>59.0435</td>\n",
       "      <td>10.739832</td>\n",
       "      <td>1562</td>\n",
       "    </tr>\n",
       "    <tr>\n",
       "      <th>4</th>\n",
       "      <td>spring</td>\n",
       "      <td>0</td>\n",
       "      <td>Jan</td>\n",
       "      <td>0</td>\n",
       "      <td>wed</td>\n",
       "      <td>1</td>\n",
       "      <td>Clear</td>\n",
       "      <td>9.305237</td>\n",
       "      <td>11.46350</td>\n",
       "      <td>43.6957</td>\n",
       "      <td>12.522300</td>\n",
       "      <td>1600</td>\n",
       "    </tr>\n",
       "  </tbody>\n",
       "</table>\n",
       "</div>"
      ],
      "text/plain": [
       "   season  yr mnth  holiday weekday  workingday     weathersit       temp  \\\n",
       "0  spring   0  Jan        0     sat           0  Mist & Cloudy  14.110847   \n",
       "1  spring   0  Jan        0     sun           0  Mist & Cloudy  14.902598   \n",
       "2  spring   0  Jan        0     mon           1          Clear   8.050924   \n",
       "3  spring   0  Jan        0     tue           1          Clear   8.200000   \n",
       "4  spring   0  Jan        0     wed           1          Clear   9.305237   \n",
       "\n",
       "      atemp      hum  windspeed   cnt  \n",
       "0  18.18125  80.5833  10.749882   985  \n",
       "1  17.68695  69.6087  16.652113   801  \n",
       "2   9.47025  43.7273  16.636703  1349  \n",
       "3  10.60610  59.0435  10.739832  1562  \n",
       "4  11.46350  43.6957  12.522300  1600  "
      ]
     },
     "execution_count": 92,
     "metadata": {},
     "output_type": "execute_result"
    }
   ],
   "source": [
    "# Handling Season ,weathersit Categorical variables.\n",
    "bikeSharing_df.season.replace({1:\"spring\", 2:\"summer\", 3:\"fall\", 4:\"winter\"},inplace = True)\n",
    "\n",
    "bikeSharing_df.weathersit.replace({1:'Clear',2:'Mist & Cloudy', \n",
    "                                             3:'Light Snow & Rain',4:'Heavy Snow & Rain'},inplace = True)\n",
    "\n",
    "bikeSharing_df.weekday = bikeSharing_df.weekday.replace({0: 'sun',1: 'mon',2: 'tue',3: 'wed',4: 'thu',5: 'fri',6: 'sat'})\n",
    "bikeSharing_df.head()"
   ]
  },
  {
   "cell_type": "markdown",
   "id": "21236ed5",
   "metadata": {},
   "source": [
    "### Visualising Categorical Variables:"
   ]
  },
  {
   "cell_type": "code",
   "execution_count": 93,
   "id": "231eb6df",
   "metadata": {},
   "outputs": [
    {
     "data": {
      "image/png": "[encoded data removed]",
      "text/plain": [
       "<Figure size 1440x864 with 6 Axes>"
      ]
     },
     "metadata": {
      "needs_background": "light"
     },
     "output_type": "display_data"
    }
   ],
   "source": [
    "plt.figure(figsize=(20, 12))\n",
    "plt.subplot(2,3,1)\n",
    "sns.boxplot(x = 'season', y = 'cnt', data = bikeSharing_df)\n",
    "plt.subplot(2,3,2)\n",
    "sns.boxplot(x = 'mnth', y = 'cnt', data = bikeSharing_df)\n",
    "plt.subplot(2,3,3)\n",
    "sns.boxplot(x = 'holiday', y = 'cnt', data = bikeSharing_df)\n",
    "plt.subplot(2,3,4)\n",
    "sns.boxplot(x = 'weathersit', y = 'cnt', data = bikeSharing_df)\n",
    "plt.subplot(2,3,5)\n",
    "sns.boxplot(x = 'yr', y = 'cnt', data = bikeSharing_df)\n",
    "plt.subplot(2,3,6)\n",
    "sns.boxplot(x = 'weekday', y = 'cnt', data = bikeSharing_df)\n",
    "plt.show()"
   ]
  },
  {
   "cell_type": "code",
   "execution_count": 94,
   "id": "13702d62",
   "metadata": {},
   "outputs": [
    {
     "data": {
      "image/png": "[encoded data removed]",
      "text/plain": [
       "<Figure size 720x360 with 1 Axes>"
      ]
     },
     "metadata": {
      "needs_background": "light"
     },
     "output_type": "display_data"
    }
   ],
   "source": [
    "plt.figure(figsize = (10, 5))\n",
    "sns.boxplot(x = 'workingday', y = 'cnt', data = bikeSharing_df)\n",
    "plt.show()"
   ]
  },
  {
   "cell_type": "markdown",
   "id": "c4f0376b",
   "metadata": {},
   "source": [
    "**Observations**:\n",
    "1. The count of bike sharing is least for spring\n",
    "2. The number of bike shares incresed in 2019\n",
    "3. The cnt has zero values for weather situation - 'Heavy Rain + Ice Pallets + Thunderstorm + Mist, Snow + Fog'(cat no 4)\n",
    "4. The cnt values increases in summer months\n",
    "5. The cnt values ars less during holidays.\n",
    "6. weekdays column is not giving a clear picture."
   ]
  },
  {
   "cell_type": "code",
   "execution_count": 95,
   "id": "c9ce4bc6",
   "metadata": {},
   "outputs": [
    {
     "data": {
      "image/png": "[encoded data removed]",
      "text/plain": [
       "<Figure size 1080x576 with 2 Axes>"
      ]
     },
     "metadata": {
      "needs_background": "light"
     },
     "output_type": "display_data"
    }
   ],
   "source": [
    "#Calculate Correlation\n",
    "corr = bikeSharing_df.corr()\n",
    "plt.figure(figsize=(15,8))\n",
    "\n",
    "#Draw Heatmap of correlation\n",
    "sns.heatmap(corr,annot=True, cmap='BrBG' )\n",
    "plt.show()"
   ]
  },
  {
   "cell_type": "markdown",
   "id": "e3fd2149",
   "metadata": {},
   "source": [
    "**Observations**:\n",
    "\n",
    "From the correlation map, temp, atemp and days_old seems to be highly correlated and only should variable can be considered for the model. However let us elminate it based on the Variance Inflation Factor later during the model building."
   ]
  },
  {
   "cell_type": "markdown",
   "id": "75724122",
   "metadata": {},
   "source": [
    "### DUMMY VARIABLES:"
   ]
  },
  {
   "cell_type": "code",
   "execution_count": 96,
   "id": "d12bf152",
   "metadata": {},
   "outputs": [],
   "source": [
    "## creating dummy variables for season , mnth ,weathersit ,weekday\n",
    "dummy = bikeSharing_df[['season','mnth','weekday','weathersit']]"
   ]
  },
  {
   "cell_type": "code",
   "execution_count": 97,
   "id": "1741cc21",
   "metadata": {},
   "outputs": [],
   "source": [
    "dummy = pd.get_dummies(dummy,drop_first=True )"
   ]
  },
  {
   "cell_type": "code",
   "execution_count": 98,
   "id": "89a10ea6",
   "metadata": {},
   "outputs": [],
   "source": [
    "## adding dummy variables to original dataset\n",
    "bikeSharing_df = pd.concat([dummy,bikeSharing_df],axis = 1)"
   ]
  },
  {
   "cell_type": "code",
   "execution_count": 99,
   "id": "9a0a1d4c",
   "metadata": {},
   "outputs": [],
   "source": [
    "## dropping columns for which dummy variables were created\n",
    "bikeSharing_df.drop(['season', 'mnth', 'weekday','weathersit'], axis = 1, inplace = True)"
   ]
  },
  {
   "cell_type": "code",
   "execution_count": 100,
   "id": "a9ec6b15",
   "metadata": {},
   "outputs": [
    {
     "data": {
      "text/html": [
       "<div>\n",
       "<style scoped>\n",
       "    .dataframe tbody tr th:only-of-type {\n",
       "        vertical-align: middle;\n",
       "    }\n",
       "\n",
       "    .dataframe tbody tr th {\n",
       "        vertical-align: top;\n",
       "    }\n",
       "\n",
       "    .dataframe thead th {\n",
       "        text-align: right;\n",
       "    }\n",
       "</style>\n",
       "<table border=\"1\" class=\"dataframe\">\n",
       "  <thead>\n",
       "    <tr style=\"text-align: right;\">\n",
       "      <th></th>\n",
       "      <th>season_spring</th>\n",
       "      <th>season_summer</th>\n",
       "      <th>season_winter</th>\n",
       "      <th>mnth_Aug</th>\n",
       "      <th>mnth_Dec</th>\n",
       "      <th>mnth_Feb</th>\n",
       "      <th>mnth_Jan</th>\n",
       "      <th>mnth_Jul</th>\n",
       "      <th>mnth_Jun</th>\n",
       "      <th>mnth_Mar</th>\n",
       "      <th>...</th>\n",
       "      <th>weathersit_Light Snow &amp; Rain</th>\n",
       "      <th>weathersit_Mist &amp; Cloudy</th>\n",
       "      <th>yr</th>\n",
       "      <th>holiday</th>\n",
       "      <th>workingday</th>\n",
       "      <th>temp</th>\n",
       "      <th>atemp</th>\n",
       "      <th>hum</th>\n",
       "      <th>windspeed</th>\n",
       "      <th>cnt</th>\n",
       "    </tr>\n",
       "  </thead>\n",
       "  <tbody>\n",
       "    <tr>\n",
       "      <th>0</th>\n",
       "      <td>1</td>\n",
       "      <td>0</td>\n",
       "      <td>0</td>\n",
       "      <td>0</td>\n",
       "      <td>0</td>\n",
       "      <td>0</td>\n",
       "      <td>1</td>\n",
       "      <td>0</td>\n",
       "      <td>0</td>\n",
       "      <td>0</td>\n",
       "      <td>...</td>\n",
       "      <td>0</td>\n",
       "      <td>1</td>\n",
       "      <td>0</td>\n",
       "      <td>0</td>\n",
       "      <td>0</td>\n",
       "      <td>14.110847</td>\n",
       "      <td>18.18125</td>\n",
       "      <td>80.5833</td>\n",
       "      <td>10.749882</td>\n",
       "      <td>985</td>\n",
       "    </tr>\n",
       "    <tr>\n",
       "      <th>1</th>\n",
       "      <td>1</td>\n",
       "      <td>0</td>\n",
       "      <td>0</td>\n",
       "      <td>0</td>\n",
       "      <td>0</td>\n",
       "      <td>0</td>\n",
       "      <td>1</td>\n",
       "      <td>0</td>\n",
       "      <td>0</td>\n",
       "      <td>0</td>\n",
       "      <td>...</td>\n",
       "      <td>0</td>\n",
       "      <td>1</td>\n",
       "      <td>0</td>\n",
       "      <td>0</td>\n",
       "      <td>0</td>\n",
       "      <td>14.902598</td>\n",
       "      <td>17.68695</td>\n",
       "      <td>69.6087</td>\n",
       "      <td>16.652113</td>\n",
       "      <td>801</td>\n",
       "    </tr>\n",
       "    <tr>\n",
       "      <th>2</th>\n",
       "      <td>1</td>\n",
       "      <td>0</td>\n",
       "      <td>0</td>\n",
       "      <td>0</td>\n",
       "      <td>0</td>\n",
       "      <td>0</td>\n",
       "      <td>1</td>\n",
       "      <td>0</td>\n",
       "      <td>0</td>\n",
       "      <td>0</td>\n",
       "      <td>...</td>\n",
       "      <td>0</td>\n",
       "      <td>0</td>\n",
       "      <td>0</td>\n",
       "      <td>0</td>\n",
       "      <td>1</td>\n",
       "      <td>8.050924</td>\n",
       "      <td>9.47025</td>\n",
       "      <td>43.7273</td>\n",
       "      <td>16.636703</td>\n",
       "      <td>1349</td>\n",
       "    </tr>\n",
       "    <tr>\n",
       "      <th>3</th>\n",
       "      <td>1</td>\n",
       "      <td>0</td>\n",
       "      <td>0</td>\n",
       "      <td>0</td>\n",
       "      <td>0</td>\n",
       "      <td>0</td>\n",
       "      <td>1</td>\n",
       "      <td>0</td>\n",
       "      <td>0</td>\n",
       "      <td>0</td>\n",
       "      <td>...</td>\n",
       "      <td>0</td>\n",
       "      <td>0</td>\n",
       "      <td>0</td>\n",
       "      <td>0</td>\n",
       "      <td>1</td>\n",
       "      <td>8.200000</td>\n",
       "      <td>10.60610</td>\n",
       "      <td>59.0435</td>\n",
       "      <td>10.739832</td>\n",
       "      <td>1562</td>\n",
       "    </tr>\n",
       "    <tr>\n",
       "      <th>4</th>\n",
       "      <td>1</td>\n",
       "      <td>0</td>\n",
       "      <td>0</td>\n",
       "      <td>0</td>\n",
       "      <td>0</td>\n",
       "      <td>0</td>\n",
       "      <td>1</td>\n",
       "      <td>0</td>\n",
       "      <td>0</td>\n",
       "      <td>0</td>\n",
       "      <td>...</td>\n",
       "      <td>0</td>\n",
       "      <td>0</td>\n",
       "      <td>0</td>\n",
       "      <td>0</td>\n",
       "      <td>1</td>\n",
       "      <td>9.305237</td>\n",
       "      <td>11.46350</td>\n",
       "      <td>43.6957</td>\n",
       "      <td>12.522300</td>\n",
       "      <td>1600</td>\n",
       "    </tr>\n",
       "  </tbody>\n",
       "</table>\n",
       "<p>5 rows × 30 columns</p>\n",
       "</div>"
      ],
      "text/plain": [
       "   season_spring  season_summer  season_winter  mnth_Aug  mnth_Dec  mnth_Feb  \\\n",
       "0              1              0              0         0         0         0   \n",
       "1              1              0              0         0         0         0   \n",
       "2              1              0              0         0         0         0   \n",
       "3              1              0              0         0         0         0   \n",
       "4              1              0              0         0         0         0   \n",
       "\n",
       "   mnth_Jan  mnth_Jul  mnth_Jun  mnth_Mar  ...  weathersit_Light Snow & Rain  \\\n",
       "0         1         0         0         0  ...                             0   \n",
       "1         1         0         0         0  ...                             0   \n",
       "2         1         0         0         0  ...                             0   \n",
       "3         1         0         0         0  ...                             0   \n",
       "4         1         0         0         0  ...                             0   \n",
       "\n",
       "   weathersit_Mist & Cloudy  yr  holiday  workingday       temp     atemp  \\\n",
       "0                         1   0        0           0  14.110847  18.18125   \n",
       "1                         1   0        0           0  14.902598  17.68695   \n",
       "2                         0   0        0           1   8.050924   9.47025   \n",
       "3                         0   0        0           1   8.200000  10.60610   \n",
       "4                         0   0        0           1   9.305237  11.46350   \n",
       "\n",
       "       hum  windspeed   cnt  \n",
       "0  80.5833  10.749882   985  \n",
       "1  69.6087  16.652113   801  \n",
       "2  43.7273  16.636703  1349  \n",
       "3  59.0435  10.739832  1562  \n",
       "4  43.6957  12.522300  1600  \n",
       "\n",
       "[5 rows x 30 columns]"
      ]
     },
     "execution_count": 100,
     "metadata": {},
     "output_type": "execute_result"
    }
   ],
   "source": [
    "bikeSharing_df.head()"
   ]
  },
  {
   "cell_type": "code",
   "execution_count": 101,
   "id": "2edbb8b0",
   "metadata": {},
   "outputs": [
    {
     "data": {
      "text/plain": [
       "(730, 30)"
      ]
     },
     "execution_count": 101,
     "metadata": {},
     "output_type": "execute_result"
    }
   ],
   "source": [
    "bikeSharing_df.shape"
   ]
  },
  {
   "cell_type": "markdown",
   "id": "a7503f27",
   "metadata": {},
   "source": [
    "## MODEL BUILDING:"
   ]
  },
  {
   "cell_type": "markdown",
   "id": "57cfe542",
   "metadata": {},
   "source": [
    "### Splitting into test and train dataset"
   ]
  },
  {
   "cell_type": "code",
   "execution_count": 102,
   "id": "5767ec67",
   "metadata": {},
   "outputs": [],
   "source": [
    "from sklearn.model_selection import train_test_split\n",
    "\n",
    "train, test = train_test_split(bikeSharing_df, train_size = 0.7, test_size = 0.3, random_state = 100)"
   ]
  },
  {
   "cell_type": "markdown",
   "id": "6d45a9ce",
   "metadata": {},
   "source": [
    "### Rescaling the Features:"
   ]
  },
  {
   "cell_type": "code",
   "execution_count": 103,
   "id": "7af1efbb",
   "metadata": {},
   "outputs": [],
   "source": [
    "scaler = MinMaxScaler()"
   ]
  },
  {
   "cell_type": "code",
   "execution_count": 104,
   "id": "bc4f7d60",
   "metadata": {},
   "outputs": [],
   "source": [
    "# Apply scaler() to all the columns except the 'dummy' variables.\n",
    "num_vars = ['cnt','hum','windspeed','temp','atemp']\n",
    "\n",
    "train[num_vars] = scaler.fit_transform(train[num_vars])"
   ]
  },
  {
   "cell_type": "code",
   "execution_count": 105,
   "id": "d1164c05",
   "metadata": {},
   "outputs": [
    {
     "data": {
      "text/html": [
       "<div>\n",
       "<style scoped>\n",
       "    .dataframe tbody tr th:only-of-type {\n",
       "        vertical-align: middle;\n",
       "    }\n",
       "\n",
       "    .dataframe tbody tr th {\n",
       "        vertical-align: top;\n",
       "    }\n",
       "\n",
       "    .dataframe thead th {\n",
       "        text-align: right;\n",
       "    }\n",
       "</style>\n",
       "<table border=\"1\" class=\"dataframe\">\n",
       "  <thead>\n",
       "    <tr style=\"text-align: right;\">\n",
       "      <th></th>\n",
       "      <th>season_spring</th>\n",
       "      <th>season_summer</th>\n",
       "      <th>season_winter</th>\n",
       "      <th>mnth_Aug</th>\n",
       "      <th>mnth_Dec</th>\n",
       "      <th>mnth_Feb</th>\n",
       "      <th>mnth_Jan</th>\n",
       "      <th>mnth_Jul</th>\n",
       "      <th>mnth_Jun</th>\n",
       "      <th>mnth_Mar</th>\n",
       "      <th>...</th>\n",
       "      <th>weathersit_Light Snow &amp; Rain</th>\n",
       "      <th>weathersit_Mist &amp; Cloudy</th>\n",
       "      <th>yr</th>\n",
       "      <th>holiday</th>\n",
       "      <th>workingday</th>\n",
       "      <th>temp</th>\n",
       "      <th>atemp</th>\n",
       "      <th>hum</th>\n",
       "      <th>windspeed</th>\n",
       "      <th>cnt</th>\n",
       "    </tr>\n",
       "  </thead>\n",
       "  <tbody>\n",
       "    <tr>\n",
       "      <th>653</th>\n",
       "      <td>0</td>\n",
       "      <td>0</td>\n",
       "      <td>1</td>\n",
       "      <td>0</td>\n",
       "      <td>0</td>\n",
       "      <td>0</td>\n",
       "      <td>0</td>\n",
       "      <td>0</td>\n",
       "      <td>0</td>\n",
       "      <td>0</td>\n",
       "      <td>...</td>\n",
       "      <td>0</td>\n",
       "      <td>0</td>\n",
       "      <td>1</td>\n",
       "      <td>0</td>\n",
       "      <td>1</td>\n",
       "      <td>0.509887</td>\n",
       "      <td>0.501133</td>\n",
       "      <td>0.575354</td>\n",
       "      <td>0.300794</td>\n",
       "      <td>0.864243</td>\n",
       "    </tr>\n",
       "    <tr>\n",
       "      <th>576</th>\n",
       "      <td>0</td>\n",
       "      <td>0</td>\n",
       "      <td>0</td>\n",
       "      <td>0</td>\n",
       "      <td>0</td>\n",
       "      <td>0</td>\n",
       "      <td>0</td>\n",
       "      <td>1</td>\n",
       "      <td>0</td>\n",
       "      <td>0</td>\n",
       "      <td>...</td>\n",
       "      <td>0</td>\n",
       "      <td>0</td>\n",
       "      <td>1</td>\n",
       "      <td>0</td>\n",
       "      <td>1</td>\n",
       "      <td>0.815169</td>\n",
       "      <td>0.766351</td>\n",
       "      <td>0.725633</td>\n",
       "      <td>0.264686</td>\n",
       "      <td>0.827658</td>\n",
       "    </tr>\n",
       "    <tr>\n",
       "      <th>426</th>\n",
       "      <td>1</td>\n",
       "      <td>0</td>\n",
       "      <td>0</td>\n",
       "      <td>0</td>\n",
       "      <td>0</td>\n",
       "      <td>0</td>\n",
       "      <td>0</td>\n",
       "      <td>0</td>\n",
       "      <td>0</td>\n",
       "      <td>1</td>\n",
       "      <td>...</td>\n",
       "      <td>0</td>\n",
       "      <td>1</td>\n",
       "      <td>1</td>\n",
       "      <td>0</td>\n",
       "      <td>0</td>\n",
       "      <td>0.442393</td>\n",
       "      <td>0.438975</td>\n",
       "      <td>0.640189</td>\n",
       "      <td>0.255342</td>\n",
       "      <td>0.465255</td>\n",
       "    </tr>\n",
       "    <tr>\n",
       "      <th>728</th>\n",
       "      <td>1</td>\n",
       "      <td>0</td>\n",
       "      <td>0</td>\n",
       "      <td>0</td>\n",
       "      <td>1</td>\n",
       "      <td>0</td>\n",
       "      <td>0</td>\n",
       "      <td>0</td>\n",
       "      <td>0</td>\n",
       "      <td>0</td>\n",
       "      <td>...</td>\n",
       "      <td>0</td>\n",
       "      <td>0</td>\n",
       "      <td>1</td>\n",
       "      <td>0</td>\n",
       "      <td>0</td>\n",
       "      <td>0.245101</td>\n",
       "      <td>0.200348</td>\n",
       "      <td>0.498067</td>\n",
       "      <td>0.663106</td>\n",
       "      <td>0.204096</td>\n",
       "    </tr>\n",
       "    <tr>\n",
       "      <th>482</th>\n",
       "      <td>0</td>\n",
       "      <td>1</td>\n",
       "      <td>0</td>\n",
       "      <td>0</td>\n",
       "      <td>0</td>\n",
       "      <td>0</td>\n",
       "      <td>0</td>\n",
       "      <td>0</td>\n",
       "      <td>0</td>\n",
       "      <td>0</td>\n",
       "      <td>...</td>\n",
       "      <td>0</td>\n",
       "      <td>1</td>\n",
       "      <td>1</td>\n",
       "      <td>0</td>\n",
       "      <td>0</td>\n",
       "      <td>0.395666</td>\n",
       "      <td>0.391735</td>\n",
       "      <td>0.504508</td>\n",
       "      <td>0.188475</td>\n",
       "      <td>0.482973</td>\n",
       "    </tr>\n",
       "  </tbody>\n",
       "</table>\n",
       "<p>5 rows × 30 columns</p>\n",
       "</div>"
      ],
      "text/plain": [
       "     season_spring  season_summer  season_winter  mnth_Aug  mnth_Dec  \\\n",
       "653              0              0              1         0         0   \n",
       "576              0              0              0         0         0   \n",
       "426              1              0              0         0         0   \n",
       "728              1              0              0         0         1   \n",
       "482              0              1              0         0         0   \n",
       "\n",
       "     mnth_Feb  mnth_Jan  mnth_Jul  mnth_Jun  mnth_Mar  ...  \\\n",
       "653         0         0         0         0         0  ...   \n",
       "576         0         0         1         0         0  ...   \n",
       "426         0         0         0         0         1  ...   \n",
       "728         0         0         0         0         0  ...   \n",
       "482         0         0         0         0         0  ...   \n",
       "\n",
       "     weathersit_Light Snow & Rain  weathersit_Mist & Cloudy  yr  holiday  \\\n",
       "653                             0                         0   1        0   \n",
       "576                             0                         0   1        0   \n",
       "426                             0                         1   1        0   \n",
       "728                             0                         0   1        0   \n",
       "482                             0                         1   1        0   \n",
       "\n",
       "     workingday      temp     atemp       hum  windspeed       cnt  \n",
       "653           1  0.509887  0.501133  0.575354   0.300794  0.864243  \n",
       "576           1  0.815169  0.766351  0.725633   0.264686  0.827658  \n",
       "426           0  0.442393  0.438975  0.640189   0.255342  0.465255  \n",
       "728           0  0.245101  0.200348  0.498067   0.663106  0.204096  \n",
       "482           0  0.395666  0.391735  0.504508   0.188475  0.482973  \n",
       "\n",
       "[5 rows x 30 columns]"
      ]
     },
     "execution_count": 105,
     "metadata": {},
     "output_type": "execute_result"
    }
   ],
   "source": [
    "train.head()"
   ]
  },
  {
   "cell_type": "code",
   "execution_count": 106,
   "id": "a3930e89",
   "metadata": {},
   "outputs": [
    {
     "data": {
      "text/html": [
       "<div>\n",
       "<style scoped>\n",
       "    .dataframe tbody tr th:only-of-type {\n",
       "        vertical-align: middle;\n",
       "    }\n",
       "\n",
       "    .dataframe tbody tr th {\n",
       "        vertical-align: top;\n",
       "    }\n",
       "\n",
       "    .dataframe thead th {\n",
       "        text-align: right;\n",
       "    }\n",
       "</style>\n",
       "<table border=\"1\" class=\"dataframe\">\n",
       "  <thead>\n",
       "    <tr style=\"text-align: right;\">\n",
       "      <th></th>\n",
       "      <th>season_spring</th>\n",
       "      <th>season_summer</th>\n",
       "      <th>season_winter</th>\n",
       "      <th>mnth_Aug</th>\n",
       "      <th>mnth_Dec</th>\n",
       "      <th>mnth_Feb</th>\n",
       "      <th>mnth_Jan</th>\n",
       "      <th>mnth_Jul</th>\n",
       "      <th>mnth_Jun</th>\n",
       "      <th>mnth_Mar</th>\n",
       "      <th>...</th>\n",
       "      <th>weathersit_Light Snow &amp; Rain</th>\n",
       "      <th>weathersit_Mist &amp; Cloudy</th>\n",
       "      <th>yr</th>\n",
       "      <th>holiday</th>\n",
       "      <th>workingday</th>\n",
       "      <th>temp</th>\n",
       "      <th>atemp</th>\n",
       "      <th>hum</th>\n",
       "      <th>windspeed</th>\n",
       "      <th>cnt</th>\n",
       "    </tr>\n",
       "  </thead>\n",
       "  <tbody>\n",
       "    <tr>\n",
       "      <th>count</th>\n",
       "      <td>510.000000</td>\n",
       "      <td>510.000000</td>\n",
       "      <td>510.00000</td>\n",
       "      <td>510.000000</td>\n",
       "      <td>510.000000</td>\n",
       "      <td>510.000000</td>\n",
       "      <td>510.000000</td>\n",
       "      <td>510.000000</td>\n",
       "      <td>510.000000</td>\n",
       "      <td>510.000000</td>\n",
       "      <td>...</td>\n",
       "      <td>510.000000</td>\n",
       "      <td>510.000000</td>\n",
       "      <td>510.000000</td>\n",
       "      <td>510.000000</td>\n",
       "      <td>510.000000</td>\n",
       "      <td>510.000000</td>\n",
       "      <td>510.000000</td>\n",
       "      <td>510.000000</td>\n",
       "      <td>510.000000</td>\n",
       "      <td>510.000000</td>\n",
       "    </tr>\n",
       "    <tr>\n",
       "      <th>mean</th>\n",
       "      <td>0.243137</td>\n",
       "      <td>0.245098</td>\n",
       "      <td>0.24902</td>\n",
       "      <td>0.096078</td>\n",
       "      <td>0.084314</td>\n",
       "      <td>0.066667</td>\n",
       "      <td>0.088235</td>\n",
       "      <td>0.076471</td>\n",
       "      <td>0.074510</td>\n",
       "      <td>0.098039</td>\n",
       "      <td>...</td>\n",
       "      <td>0.029412</td>\n",
       "      <td>0.343137</td>\n",
       "      <td>0.507843</td>\n",
       "      <td>0.025490</td>\n",
       "      <td>0.676471</td>\n",
       "      <td>0.537262</td>\n",
       "      <td>0.512989</td>\n",
       "      <td>0.650369</td>\n",
       "      <td>0.320768</td>\n",
       "      <td>0.513620</td>\n",
       "    </tr>\n",
       "    <tr>\n",
       "      <th>std</th>\n",
       "      <td>0.429398</td>\n",
       "      <td>0.430568</td>\n",
       "      <td>0.43287</td>\n",
       "      <td>0.294988</td>\n",
       "      <td>0.278131</td>\n",
       "      <td>0.249689</td>\n",
       "      <td>0.283915</td>\n",
       "      <td>0.266010</td>\n",
       "      <td>0.262857</td>\n",
       "      <td>0.297660</td>\n",
       "      <td>...</td>\n",
       "      <td>0.169124</td>\n",
       "      <td>0.475223</td>\n",
       "      <td>0.500429</td>\n",
       "      <td>0.157763</td>\n",
       "      <td>0.468282</td>\n",
       "      <td>0.225844</td>\n",
       "      <td>0.212385</td>\n",
       "      <td>0.145882</td>\n",
       "      <td>0.169797</td>\n",
       "      <td>0.224593</td>\n",
       "    </tr>\n",
       "    <tr>\n",
       "      <th>min</th>\n",
       "      <td>0.000000</td>\n",
       "      <td>0.000000</td>\n",
       "      <td>0.00000</td>\n",
       "      <td>0.000000</td>\n",
       "      <td>0.000000</td>\n",
       "      <td>0.000000</td>\n",
       "      <td>0.000000</td>\n",
       "      <td>0.000000</td>\n",
       "      <td>0.000000</td>\n",
       "      <td>0.000000</td>\n",
       "      <td>...</td>\n",
       "      <td>0.000000</td>\n",
       "      <td>0.000000</td>\n",
       "      <td>0.000000</td>\n",
       "      <td>0.000000</td>\n",
       "      <td>0.000000</td>\n",
       "      <td>0.000000</td>\n",
       "      <td>0.000000</td>\n",
       "      <td>0.000000</td>\n",
       "      <td>0.000000</td>\n",
       "      <td>0.000000</td>\n",
       "    </tr>\n",
       "    <tr>\n",
       "      <th>25%</th>\n",
       "      <td>0.000000</td>\n",
       "      <td>0.000000</td>\n",
       "      <td>0.00000</td>\n",
       "      <td>0.000000</td>\n",
       "      <td>0.000000</td>\n",
       "      <td>0.000000</td>\n",
       "      <td>0.000000</td>\n",
       "      <td>0.000000</td>\n",
       "      <td>0.000000</td>\n",
       "      <td>0.000000</td>\n",
       "      <td>...</td>\n",
       "      <td>0.000000</td>\n",
       "      <td>0.000000</td>\n",
       "      <td>0.000000</td>\n",
       "      <td>0.000000</td>\n",
       "      <td>0.000000</td>\n",
       "      <td>0.339853</td>\n",
       "      <td>0.332086</td>\n",
       "      <td>0.538643</td>\n",
       "      <td>0.199179</td>\n",
       "      <td>0.356420</td>\n",
       "    </tr>\n",
       "    <tr>\n",
       "      <th>50%</th>\n",
       "      <td>0.000000</td>\n",
       "      <td>0.000000</td>\n",
       "      <td>0.00000</td>\n",
       "      <td>0.000000</td>\n",
       "      <td>0.000000</td>\n",
       "      <td>0.000000</td>\n",
       "      <td>0.000000</td>\n",
       "      <td>0.000000</td>\n",
       "      <td>0.000000</td>\n",
       "      <td>0.000000</td>\n",
       "      <td>...</td>\n",
       "      <td>0.000000</td>\n",
       "      <td>0.000000</td>\n",
       "      <td>1.000000</td>\n",
       "      <td>0.000000</td>\n",
       "      <td>1.000000</td>\n",
       "      <td>0.540519</td>\n",
       "      <td>0.526811</td>\n",
       "      <td>0.653714</td>\n",
       "      <td>0.296763</td>\n",
       "      <td>0.518638</td>\n",
       "    </tr>\n",
       "    <tr>\n",
       "      <th>75%</th>\n",
       "      <td>0.000000</td>\n",
       "      <td>0.000000</td>\n",
       "      <td>0.00000</td>\n",
       "      <td>0.000000</td>\n",
       "      <td>0.000000</td>\n",
       "      <td>0.000000</td>\n",
       "      <td>0.000000</td>\n",
       "      <td>0.000000</td>\n",
       "      <td>0.000000</td>\n",
       "      <td>0.000000</td>\n",
       "      <td>...</td>\n",
       "      <td>0.000000</td>\n",
       "      <td>1.000000</td>\n",
       "      <td>1.000000</td>\n",
       "      <td>0.000000</td>\n",
       "      <td>1.000000</td>\n",
       "      <td>0.735215</td>\n",
       "      <td>0.688457</td>\n",
       "      <td>0.754830</td>\n",
       "      <td>0.414447</td>\n",
       "      <td>0.684710</td>\n",
       "    </tr>\n",
       "    <tr>\n",
       "      <th>max</th>\n",
       "      <td>1.000000</td>\n",
       "      <td>1.000000</td>\n",
       "      <td>1.00000</td>\n",
       "      <td>1.000000</td>\n",
       "      <td>1.000000</td>\n",
       "      <td>1.000000</td>\n",
       "      <td>1.000000</td>\n",
       "      <td>1.000000</td>\n",
       "      <td>1.000000</td>\n",
       "      <td>1.000000</td>\n",
       "      <td>...</td>\n",
       "      <td>1.000000</td>\n",
       "      <td>1.000000</td>\n",
       "      <td>1.000000</td>\n",
       "      <td>1.000000</td>\n",
       "      <td>1.000000</td>\n",
       "      <td>1.000000</td>\n",
       "      <td>1.000000</td>\n",
       "      <td>1.000000</td>\n",
       "      <td>1.000000</td>\n",
       "      <td>1.000000</td>\n",
       "    </tr>\n",
       "  </tbody>\n",
       "</table>\n",
       "<p>8 rows × 30 columns</p>\n",
       "</div>"
      ],
      "text/plain": [
       "       season_spring  season_summer  season_winter    mnth_Aug    mnth_Dec  \\\n",
       "count     510.000000     510.000000      510.00000  510.000000  510.000000   \n",
       "mean        0.243137       0.245098        0.24902    0.096078    0.084314   \n",
       "std         0.429398       0.430568        0.43287    0.294988    0.278131   \n",
       "min         0.000000       0.000000        0.00000    0.000000    0.000000   \n",
       "25%         0.000000       0.000000        0.00000    0.000000    0.000000   \n",
       "50%         0.000000       0.000000        0.00000    0.000000    0.000000   \n",
       "75%         0.000000       0.000000        0.00000    0.000000    0.000000   \n",
       "max         1.000000       1.000000        1.00000    1.000000    1.000000   \n",
       "\n",
       "         mnth_Feb    mnth_Jan    mnth_Jul    mnth_Jun    mnth_Mar  ...  \\\n",
       "count  510.000000  510.000000  510.000000  510.000000  510.000000  ...   \n",
       "mean     0.066667    0.088235    0.076471    0.074510    0.098039  ...   \n",
       "std      0.249689    0.283915    0.266010    0.262857    0.297660  ...   \n",
       "min      0.000000    0.000000    0.000000    0.000000    0.000000  ...   \n",
       "25%      0.000000    0.000000    0.000000    0.000000    0.000000  ...   \n",
       "50%      0.000000    0.000000    0.000000    0.000000    0.000000  ...   \n",
       "75%      0.000000    0.000000    0.000000    0.000000    0.000000  ...   \n",
       "max      1.000000    1.000000    1.000000    1.000000    1.000000  ...   \n",
       "\n",
       "       weathersit_Light Snow & Rain  weathersit_Mist & Cloudy          yr  \\\n",
       "count                    510.000000                510.000000  510.000000   \n",
       "mean                       0.029412                  0.343137    0.507843   \n",
       "std                        0.169124                  0.475223    0.500429   \n",
       "min                        0.000000                  0.000000    0.000000   \n",
       "25%                        0.000000                  0.000000    0.000000   \n",
       "50%                        0.000000                  0.000000    1.000000   \n",
       "75%                        0.000000                  1.000000    1.000000   \n",
       "max                        1.000000                  1.000000    1.000000   \n",
       "\n",
       "          holiday  workingday        temp       atemp         hum   windspeed  \\\n",
       "count  510.000000  510.000000  510.000000  510.000000  510.000000  510.000000   \n",
       "mean     0.025490    0.676471    0.537262    0.512989    0.650369    0.320768   \n",
       "std      0.157763    0.468282    0.225844    0.212385    0.145882    0.169797   \n",
       "min      0.000000    0.000000    0.000000    0.000000    0.000000    0.000000   \n",
       "25%      0.000000    0.000000    0.339853    0.332086    0.538643    0.199179   \n",
       "50%      0.000000    1.000000    0.540519    0.526811    0.653714    0.296763   \n",
       "75%      0.000000    1.000000    0.735215    0.688457    0.754830    0.414447   \n",
       "max      1.000000    1.000000    1.000000    1.000000    1.000000    1.000000   \n",
       "\n",
       "              cnt  \n",
       "count  510.000000  \n",
       "mean     0.513620  \n",
       "std      0.224593  \n",
       "min      0.000000  \n",
       "25%      0.356420  \n",
       "50%      0.518638  \n",
       "75%      0.684710  \n",
       "max      1.000000  \n",
       "\n",
       "[8 rows x 30 columns]"
      ]
     },
     "execution_count": 106,
     "metadata": {},
     "output_type": "execute_result"
    }
   ],
   "source": [
    "train.describe()"
   ]
  },
  {
   "cell_type": "markdown",
   "id": "afa633a8",
   "metadata": {},
   "source": [
    "Now all the varibles are in between range of 0 to 1"
   ]
  },
  {
   "cell_type": "markdown",
   "id": "45435ae6",
   "metadata": {},
   "source": [
    "***Dividing into X and Y sets for the model building***"
   ]
  },
  {
   "cell_type": "markdown",
   "id": "54d2c3a3",
   "metadata": {},
   "source": [
    "y_train column contains only cnt"
   ]
  },
  {
   "cell_type": "code",
   "execution_count": 107,
   "id": "972ecbc5",
   "metadata": {},
   "outputs": [],
   "source": [
    "y_train = train.pop('cnt')\n",
    "X_train = train"
   ]
  },
  {
   "cell_type": "markdown",
   "id": "ad2b65c8",
   "metadata": {},
   "source": [
    "## Building the Model:"
   ]
  },
  {
   "cell_type": "markdown",
   "id": "d8f63bae",
   "metadata": {},
   "source": [
    "Use RFE to eliminate some columns"
   ]
  },
  {
   "cell_type": "markdown",
   "id": "4ab618de",
   "metadata": {},
   "source": [
    "### Manual elimination"
   ]
  },
  {
   "cell_type": "code",
   "execution_count": 108,
   "id": "8d0a3a38",
   "metadata": {},
   "outputs": [],
   "source": [
    "# Running RFE with the output number of the variable equal to 10\n",
    "lm = LinearRegression()\n",
    "lm.fit(X_train, y_train)\n",
    "\n",
    "rfe = RFE(lm, 13)             # running RFE\n",
    "rfe = rfe.fit(X_train, y_train)"
   ]
  },
  {
   "cell_type": "code",
   "execution_count": 109,
   "id": "b2887598",
   "metadata": {},
   "outputs": [
    {
     "data": {
      "text/plain": [
       "[('season_spring', True, 1),\n",
       " ('season_summer', True, 1),\n",
       " ('season_winter', True, 1),\n",
       " ('mnth_Aug', False, 9),\n",
       " ('mnth_Dec', False, 5),\n",
       " ('mnth_Feb', False, 6),\n",
       " ('mnth_Jan', False, 3),\n",
       " ('mnth_Jul', True, 1),\n",
       " ('mnth_Jun', False, 17),\n",
       " ('mnth_Mar', False, 16),\n",
       " ('mnth_May', False, 8),\n",
       " ('mnth_Nov', False, 4),\n",
       " ('mnth_Oct', False, 13),\n",
       " ('mnth_Sep', True, 1),\n",
       " ('weekday_mon', False, 11),\n",
       " ('weekday_sat', True, 1),\n",
       " ('weekday_sun', False, 10),\n",
       " ('weekday_thu', False, 14),\n",
       " ('weekday_tue', False, 12),\n",
       " ('weekday_wed', False, 15),\n",
       " ('weathersit_Light Snow & Rain', True, 1),\n",
       " ('weathersit_Mist & Cloudy', True, 1),\n",
       " ('yr', True, 1),\n",
       " ('holiday', True, 1),\n",
       " ('workingday', False, 2),\n",
       " ('temp', True, 1),\n",
       " ('atemp', False, 7),\n",
       " ('hum', True, 1),\n",
       " ('windspeed', True, 1)]"
      ]
     },
     "execution_count": 109,
     "metadata": {},
     "output_type": "execute_result"
    }
   ],
   "source": [
    "#Columns selected by RFE and their weights\n",
    "list(zip(X_train.columns,rfe.support_,rfe.ranking_))"
   ]
  },
  {
   "cell_type": "markdown",
   "id": "9c459ca7",
   "metadata": {},
   "source": [
    "Starting with all the columns selected by RFE"
   ]
  },
  {
   "cell_type": "code",
   "execution_count": 110,
   "id": "08eb756f",
   "metadata": {},
   "outputs": [
    {
     "data": {
      "text/plain": [
       "Index(['season_spring', 'season_summer', 'season_winter', 'mnth_Jul',\n",
       "       'mnth_Sep', 'weekday_sat', 'weathersit_Light Snow & Rain',\n",
       "       'weathersit_Mist & Cloudy', 'yr', 'holiday', 'temp', 'hum',\n",
       "       'windspeed'],\n",
       "      dtype='object')"
      ]
     },
     "execution_count": 110,
     "metadata": {},
     "output_type": "execute_result"
    }
   ],
   "source": [
    "#Print Columns selected by RFE. We will start with these columns for manual elimination\n",
    "col = X_train.columns[rfe.support_]\n",
    "col"
   ]
  },
  {
   "cell_type": "code",
   "execution_count": 111,
   "id": "efc54a75",
   "metadata": {},
   "outputs": [
    {
     "data": {
      "text/plain": [
       "Index(['mnth_Aug', 'mnth_Dec', 'mnth_Feb', 'mnth_Jan', 'mnth_Jun', 'mnth_Mar',\n",
       "       'mnth_May', 'mnth_Nov', 'mnth_Oct', 'weekday_mon', 'weekday_sun',\n",
       "       'weekday_thu', 'weekday_tue', 'weekday_wed', 'workingday', 'atemp'],\n",
       "      dtype='object')"
      ]
     },
     "execution_count": 111,
     "metadata": {},
     "output_type": "execute_result"
    }
   ],
   "source": [
    "X_train.columns[~rfe.support_]"
   ]
  },
  {
   "cell_type": "markdown",
   "id": "40164e04",
   "metadata": {},
   "source": [
    "### Model 1"
   ]
  },
  {
   "cell_type": "code",
   "execution_count": 112,
   "id": "3ce9669f",
   "metadata": {},
   "outputs": [],
   "source": [
    "# Creating X_test dataframe with RFE selected variables\n",
    "X_train_rfe = X_train[col]"
   ]
  },
  {
   "cell_type": "markdown",
   "id": "63950c2c",
   "metadata": {},
   "source": [
    "Fit a regression line through the training data using ***statsmodels***. In statsmodels, you need to explicitly fit a constant using ***sm.add_constant(X)*** because if we don't perform this step, statsmodels fits a regression line passing through the origin, by default."
   ]
  },
  {
   "cell_type": "code",
   "execution_count": 113,
   "id": "58c62124",
   "metadata": {},
   "outputs": [],
   "source": [
    "# Adding a constant variable \n",
    " \n",
    "X_train_rfe = sm.add_constant(X_train_rfe)"
   ]
  },
  {
   "cell_type": "code",
   "execution_count": 114,
   "id": "76825645",
   "metadata": {},
   "outputs": [],
   "source": [
    "# Create a first fitted model\n",
    "lm = sm.OLS(y_train,X_train_rfe).fit()"
   ]
  },
  {
   "cell_type": "code",
   "execution_count": 115,
   "id": "209ac4d9",
   "metadata": {},
   "outputs": [
    {
     "data": {
      "text/plain": [
       "const                           0.279640\n",
       "season_spring                  -0.056290\n",
       "season_summer                   0.052092\n",
       "season_winter                   0.098387\n",
       "mnth_Jul                       -0.057853\n",
       "mnth_Sep                        0.082751\n",
       "weekday_sat                     0.017490\n",
       "weathersit_Light Snow & Rain   -0.239456\n",
       "weathersit_Mist & Cloudy       -0.054750\n",
       "yr                              0.229791\n",
       "holiday                        -0.094469\n",
       "temp                            0.530609\n",
       "hum                            -0.168105\n",
       "windspeed                      -0.183143\n",
       "dtype: float64"
      ]
     },
     "execution_count": 115,
     "metadata": {},
     "output_type": "execute_result"
    }
   ],
   "source": [
    "# Check the parameters obtained\n",
    "\n",
    "lm.params"
   ]
  },
  {
   "cell_type": "code",
   "execution_count": 116,
   "id": "b4fa160d",
   "metadata": {},
   "outputs": [
    {
     "name": "stdout",
     "output_type": "stream",
     "text": [
      "                            OLS Regression Results                            \n",
      "==============================================================================\n",
      "Dep. Variable:                    cnt   R-squared:                       0.843\n",
      "Model:                            OLS   Adj. R-squared:                  0.839\n",
      "Method:                 Least Squares   F-statistic:                     205.0\n",
      "Date:                Wed, 09 Feb 2022   Prob (F-statistic):          7.51e-190\n",
      "Time:                        21:12:36   Log-Likelihood:                 510.75\n",
      "No. Observations:                 510   AIC:                            -993.5\n",
      "Df Residuals:                     496   BIC:                            -934.2\n",
      "Df Model:                          13                                         \n",
      "Covariance Type:            nonrobust                                         \n",
      "================================================================================================\n",
      "                                   coef    std err          t      P>|t|      [0.025      0.975]\n",
      "------------------------------------------------------------------------------------------------\n",
      "const                            0.2796      0.035      8.096      0.000       0.212       0.348\n",
      "season_spring                   -0.0563      0.021     -2.701      0.007      -0.097      -0.015\n",
      "season_summer                    0.0521      0.015      3.472      0.001       0.023       0.082\n",
      "season_winter                    0.0984      0.017      5.706      0.000       0.065       0.132\n",
      "mnth_Jul                        -0.0579      0.018     -3.162      0.002      -0.094      -0.022\n",
      "mnth_Sep                         0.0828      0.017      4.952      0.000       0.050       0.116\n",
      "weekday_sat                      0.0175      0.011      1.575      0.116      -0.004       0.039\n",
      "weathersit_Light Snow & Rain    -0.2395      0.026     -9.090      0.000      -0.291      -0.188\n",
      "weathersit_Mist & Cloudy        -0.0547      0.011     -5.211      0.000      -0.075      -0.034\n",
      "yr                               0.2298      0.008     28.298      0.000       0.214       0.246\n",
      "holiday                         -0.0945      0.026     -3.690      0.000      -0.145      -0.044\n",
      "temp                             0.5306      0.034     15.779      0.000       0.465       0.597\n",
      "hum                             -0.1681      0.038     -4.450      0.000      -0.242      -0.094\n",
      "windspeed                       -0.1831      0.026     -7.120      0.000      -0.234      -0.133\n",
      "==============================================================================\n",
      "Omnibus:                       63.307   Durbin-Watson:                   2.044\n",
      "Prob(Omnibus):                  0.000   Jarque-Bera (JB):              137.410\n",
      "Skew:                          -0.685   Prob(JB):                     1.45e-30\n",
      "Kurtosis:                       5.143   Cond. No.                         19.5\n",
      "==============================================================================\n",
      "\n",
      "Notes:\n",
      "[1] Standard Errors assume that the covariance matrix of the errors is correctly specified.\n"
     ]
    }
   ],
   "source": [
    "# Print a summary of the linear regression model obtained\n",
    "print(lm.summary())"
   ]
  },
  {
   "cell_type": "markdown",
   "id": "95fa30a7",
   "metadata": {},
   "source": [
    "**Observation**:\n",
    "\n",
    "We can drop **weekday_Saturday** since it has p > 0.05. "
   ]
  },
  {
   "cell_type": "code",
   "execution_count": 117,
   "id": "79803778",
   "metadata": {},
   "outputs": [],
   "source": [
    "X_train_new = X_train_rfe.drop([\"weekday_sat\"], axis = 1)"
   ]
  },
  {
   "cell_type": "markdown",
   "id": "150cb045",
   "metadata": {},
   "source": [
    "Rebuilding the model without 'weekday_Saturday'"
   ]
  },
  {
   "cell_type": "markdown",
   "id": "b9fb9167",
   "metadata": {},
   "source": [
    "## Model 2:"
   ]
  },
  {
   "cell_type": "code",
   "execution_count": 118,
   "id": "da57c083",
   "metadata": {},
   "outputs": [],
   "source": [
    "# Adding a constant variable \n",
    "X_train_lm = sm.add_constant(X_train_new)"
   ]
  },
  {
   "cell_type": "code",
   "execution_count": 119,
   "id": "be5f7559",
   "metadata": {},
   "outputs": [],
   "source": [
    "lm = sm.OLS(y_train,X_train_lm).fit()"
   ]
  },
  {
   "cell_type": "code",
   "execution_count": 120,
   "id": "3a866897",
   "metadata": {},
   "outputs": [
    {
     "data": {
      "text/html": [
       "<table class=\"simpletable\">\n",
       "<caption>OLS Regression Results</caption>\n",
       "<tr>\n",
       "  <th>Dep. Variable:</th>           <td>cnt</td>       <th>  R-squared:         </th> <td>   0.842</td> \n",
       "</tr>\n",
       "<tr>\n",
       "  <th>Model:</th>                   <td>OLS</td>       <th>  Adj. R-squared:    </th> <td>   0.838</td> \n",
       "</tr>\n",
       "<tr>\n",
       "  <th>Method:</th>             <td>Least Squares</td>  <th>  F-statistic:       </th> <td>   221.2</td> \n",
       "</tr>\n",
       "<tr>\n",
       "  <th>Date:</th>             <td>Wed, 09 Feb 2022</td> <th>  Prob (F-statistic):</th> <td>1.69e-190</td>\n",
       "</tr>\n",
       "<tr>\n",
       "  <th>Time:</th>                 <td>21:12:36</td>     <th>  Log-Likelihood:    </th> <td>  509.47</td> \n",
       "</tr>\n",
       "<tr>\n",
       "  <th>No. Observations:</th>      <td>   510</td>      <th>  AIC:               </th> <td>  -992.9</td> \n",
       "</tr>\n",
       "<tr>\n",
       "  <th>Df Residuals:</th>          <td>   497</td>      <th>  BIC:               </th> <td>  -937.9</td> \n",
       "</tr>\n",
       "<tr>\n",
       "  <th>Df Model:</th>              <td>    12</td>      <th>                     </th>     <td> </td>    \n",
       "</tr>\n",
       "<tr>\n",
       "  <th>Covariance Type:</th>      <td>nonrobust</td>    <th>                     </th>     <td> </td>    \n",
       "</tr>\n",
       "</table>\n",
       "<table class=\"simpletable\">\n",
       "<tr>\n",
       "                <td></td>                  <th>coef</th>     <th>std err</th>      <th>t</th>      <th>P>|t|</th>  <th>[0.025</th>    <th>0.975]</th>  \n",
       "</tr>\n",
       "<tr>\n",
       "  <th>const</th>                        <td>    0.2841</td> <td>    0.034</td> <td>    8.242</td> <td> 0.000</td> <td>    0.216</td> <td>    0.352</td>\n",
       "</tr>\n",
       "<tr>\n",
       "  <th>season_spring</th>                <td>   -0.0562</td> <td>    0.021</td> <td>   -2.695</td> <td> 0.007</td> <td>   -0.097</td> <td>   -0.015</td>\n",
       "</tr>\n",
       "<tr>\n",
       "  <th>season_summer</th>                <td>    0.0519</td> <td>    0.015</td> <td>    3.457</td> <td> 0.001</td> <td>    0.022</td> <td>    0.081</td>\n",
       "</tr>\n",
       "<tr>\n",
       "  <th>season_winter</th>                <td>    0.0987</td> <td>    0.017</td> <td>    5.719</td> <td> 0.000</td> <td>    0.065</td> <td>    0.133</td>\n",
       "</tr>\n",
       "<tr>\n",
       "  <th>mnth_Jul</th>                     <td>   -0.0575</td> <td>    0.018</td> <td>   -3.140</td> <td> 0.002</td> <td>   -0.094</td> <td>   -0.022</td>\n",
       "</tr>\n",
       "<tr>\n",
       "  <th>mnth_Sep</th>                     <td>    0.0830</td> <td>    0.017</td> <td>    4.962</td> <td> 0.000</td> <td>    0.050</td> <td>    0.116</td>\n",
       "</tr>\n",
       "<tr>\n",
       "  <th>weathersit_Light Snow & Rain</th> <td>   -0.2382</td> <td>    0.026</td> <td>   -9.034</td> <td> 0.000</td> <td>   -0.290</td> <td>   -0.186</td>\n",
       "</tr>\n",
       "<tr>\n",
       "  <th>weathersit_Mist & Cloudy</th>     <td>   -0.0542</td> <td>    0.011</td> <td>   -5.151</td> <td> 0.000</td> <td>   -0.075</td> <td>   -0.034</td>\n",
       "</tr>\n",
       "<tr>\n",
       "  <th>yr</th>                           <td>    0.2293</td> <td>    0.008</td> <td>   28.219</td> <td> 0.000</td> <td>    0.213</td> <td>    0.245</td>\n",
       "</tr>\n",
       "<tr>\n",
       "  <th>holiday</th>                      <td>   -0.0974</td> <td>    0.026</td> <td>   -3.809</td> <td> 0.000</td> <td>   -0.148</td> <td>   -0.047</td>\n",
       "</tr>\n",
       "<tr>\n",
       "  <th>temp</th>                         <td>    0.5300</td> <td>    0.034</td> <td>   15.739</td> <td> 0.000</td> <td>    0.464</td> <td>    0.596</td>\n",
       "</tr>\n",
       "<tr>\n",
       "  <th>hum</th>                          <td>   -0.1710</td> <td>    0.038</td> <td>   -4.526</td> <td> 0.000</td> <td>   -0.245</td> <td>   -0.097</td>\n",
       "</tr>\n",
       "<tr>\n",
       "  <th>windspeed</th>                    <td>   -0.1819</td> <td>    0.026</td> <td>   -7.066</td> <td> 0.000</td> <td>   -0.233</td> <td>   -0.131</td>\n",
       "</tr>\n",
       "</table>\n",
       "<table class=\"simpletable\">\n",
       "<tr>\n",
       "  <th>Omnibus:</th>       <td>57.560</td> <th>  Durbin-Watson:     </th> <td>   2.042</td>\n",
       "</tr>\n",
       "<tr>\n",
       "  <th>Prob(Omnibus):</th> <td> 0.000</td> <th>  Jarque-Bera (JB):  </th> <td> 131.574</td>\n",
       "</tr>\n",
       "<tr>\n",
       "  <th>Skew:</th>          <td>-0.610</td> <th>  Prob(JB):          </th> <td>2.69e-29</td>\n",
       "</tr>\n",
       "<tr>\n",
       "  <th>Kurtosis:</th>      <td> 5.169</td> <th>  Cond. No.          </th> <td>    19.4</td>\n",
       "</tr>\n",
       "</table><br/><br/>Notes:<br/>[1] Standard Errors assume that the covariance matrix of the errors is correctly specified."
      ],
      "text/plain": [
       "<class 'statsmodels.iolib.summary.Summary'>\n",
       "\"\"\"\n",
       "                            OLS Regression Results                            \n",
       "==============================================================================\n",
       "Dep. Variable:                    cnt   R-squared:                       0.842\n",
       "Model:                            OLS   Adj. R-squared:                  0.838\n",
       "Method:                 Least Squares   F-statistic:                     221.2\n",
       "Date:                Wed, 09 Feb 2022   Prob (F-statistic):          1.69e-190\n",
       "Time:                        21:12:36   Log-Likelihood:                 509.47\n",
       "No. Observations:                 510   AIC:                            -992.9\n",
       "Df Residuals:                     497   BIC:                            -937.9\n",
       "Df Model:                          12                                         \n",
       "Covariance Type:            nonrobust                                         \n",
       "================================================================================================\n",
       "                                   coef    std err          t      P>|t|      [0.025      0.975]\n",
       "------------------------------------------------------------------------------------------------\n",
       "const                            0.2841      0.034      8.242      0.000       0.216       0.352\n",
       "season_spring                   -0.0562      0.021     -2.695      0.007      -0.097      -0.015\n",
       "season_summer                    0.0519      0.015      3.457      0.001       0.022       0.081\n",
       "season_winter                    0.0987      0.017      5.719      0.000       0.065       0.133\n",
       "mnth_Jul                        -0.0575      0.018     -3.140      0.002      -0.094      -0.022\n",
       "mnth_Sep                         0.0830      0.017      4.962      0.000       0.050       0.116\n",
       "weathersit_Light Snow & Rain    -0.2382      0.026     -9.034      0.000      -0.290      -0.186\n",
       "weathersit_Mist & Cloudy        -0.0542      0.011     -5.151      0.000      -0.075      -0.034\n",
       "yr                               0.2293      0.008     28.219      0.000       0.213       0.245\n",
       "holiday                         -0.0974      0.026     -3.809      0.000      -0.148      -0.047\n",
       "temp                             0.5300      0.034     15.739      0.000       0.464       0.596\n",
       "hum                             -0.1710      0.038     -4.526      0.000      -0.245      -0.097\n",
       "windspeed                       -0.1819      0.026     -7.066      0.000      -0.233      -0.131\n",
       "==============================================================================\n",
       "Omnibus:                       57.560   Durbin-Watson:                   2.042\n",
       "Prob(Omnibus):                  0.000   Jarque-Bera (JB):              131.574\n",
       "Skew:                          -0.610   Prob(JB):                     2.69e-29\n",
       "Kurtosis:                       5.169   Cond. No.                         19.4\n",
       "==============================================================================\n",
       "\n",
       "Notes:\n",
       "[1] Standard Errors assume that the covariance matrix of the errors is correctly specified.\n",
       "\"\"\""
      ]
     },
     "execution_count": 120,
     "metadata": {},
     "output_type": "execute_result"
    }
   ],
   "source": [
    "lm.summary()"
   ]
  },
  {
   "cell_type": "markdown",
   "id": "36be2b9e",
   "metadata": {},
   "source": [
    "All the **P values** are in range < 0.05 only . we shoul check for vif"
   ]
  },
  {
   "cell_type": "markdown",
   "id": "61b38641",
   "metadata": {},
   "source": [
    "### Checking VIF for multicollinearity:"
   ]
  },
  {
   "cell_type": "code",
   "execution_count": 121,
   "id": "586382f6",
   "metadata": {},
   "outputs": [
    {
     "data": {
      "text/html": [
       "<div>\n",
       "<style scoped>\n",
       "    .dataframe tbody tr th:only-of-type {\n",
       "        vertical-align: middle;\n",
       "    }\n",
       "\n",
       "    .dataframe tbody tr th {\n",
       "        vertical-align: top;\n",
       "    }\n",
       "\n",
       "    .dataframe thead th {\n",
       "        text-align: right;\n",
       "    }\n",
       "</style>\n",
       "<table border=\"1\" class=\"dataframe\">\n",
       "  <thead>\n",
       "    <tr style=\"text-align: right;\">\n",
       "      <th></th>\n",
       "      <th>Features</th>\n",
       "      <th>VIF</th>\n",
       "    </tr>\n",
       "  </thead>\n",
       "  <tbody>\n",
       "    <tr>\n",
       "      <th>0</th>\n",
       "      <td>const</td>\n",
       "      <td>74.38</td>\n",
       "    </tr>\n",
       "    <tr>\n",
       "      <th>1</th>\n",
       "      <td>season_spring</td>\n",
       "      <td>5.02</td>\n",
       "    </tr>\n",
       "    <tr>\n",
       "      <th>10</th>\n",
       "      <td>temp</td>\n",
       "      <td>3.61</td>\n",
       "    </tr>\n",
       "    <tr>\n",
       "      <th>3</th>\n",
       "      <td>season_winter</td>\n",
       "      <td>3.49</td>\n",
       "    </tr>\n",
       "    <tr>\n",
       "      <th>2</th>\n",
       "      <td>season_summer</td>\n",
       "      <td>2.61</td>\n",
       "    </tr>\n",
       "    <tr>\n",
       "      <th>11</th>\n",
       "      <td>hum</td>\n",
       "      <td>1.90</td>\n",
       "    </tr>\n",
       "    <tr>\n",
       "      <th>7</th>\n",
       "      <td>weathersit_Mist &amp; Cloudy</td>\n",
       "      <td>1.56</td>\n",
       "    </tr>\n",
       "    <tr>\n",
       "      <th>4</th>\n",
       "      <td>mnth_Jul</td>\n",
       "      <td>1.48</td>\n",
       "    </tr>\n",
       "    <tr>\n",
       "      <th>5</th>\n",
       "      <td>mnth_Sep</td>\n",
       "      <td>1.30</td>\n",
       "    </tr>\n",
       "    <tr>\n",
       "      <th>6</th>\n",
       "      <td>weathersit_Light Snow &amp; Rain</td>\n",
       "      <td>1.24</td>\n",
       "    </tr>\n",
       "    <tr>\n",
       "      <th>12</th>\n",
       "      <td>windspeed</td>\n",
       "      <td>1.19</td>\n",
       "    </tr>\n",
       "    <tr>\n",
       "      <th>8</th>\n",
       "      <td>yr</td>\n",
       "      <td>1.03</td>\n",
       "    </tr>\n",
       "    <tr>\n",
       "      <th>9</th>\n",
       "      <td>holiday</td>\n",
       "      <td>1.02</td>\n",
       "    </tr>\n",
       "  </tbody>\n",
       "</table>\n",
       "</div>"
      ],
      "text/plain": [
       "                        Features    VIF\n",
       "0                          const  74.38\n",
       "1                  season_spring   5.02\n",
       "10                          temp   3.61\n",
       "3                  season_winter   3.49\n",
       "2                  season_summer   2.61\n",
       "11                           hum   1.90\n",
       "7       weathersit_Mist & Cloudy   1.56\n",
       "4                       mnth_Jul   1.48\n",
       "5                       mnth_Sep   1.30\n",
       "6   weathersit_Light Snow & Rain   1.24\n",
       "12                     windspeed   1.19\n",
       "8                             yr   1.03\n",
       "9                        holiday   1.02"
      ]
     },
     "execution_count": 121,
     "metadata": {},
     "output_type": "execute_result"
    }
   ],
   "source": [
    "# Calculate the VIFs for the new model\n",
    "vif = pd.DataFrame()\n",
    "X = X_train_new\n",
    "vif['Features'] = X.columns\n",
    "vif['VIF'] = [variance_inflation_factor(X.values, i) for i in range(X.shape[1])]\n",
    "vif['VIF'] = round(vif['VIF'], 2)\n",
    "vif = vif.sort_values(by = \"VIF\", ascending = False)\n",
    "vif"
   ]
  },
  {
   "cell_type": "markdown",
   "id": "4e7fe664",
   "metadata": {},
   "source": [
    "We generally want a VIF that is less than 5. So there are clearly some variables we need to drop."
   ]
  },
  {
   "cell_type": "code",
   "execution_count": 122,
   "id": "6c909662",
   "metadata": {},
   "outputs": [],
   "source": [
    "X_train_new = X_train_new.drop(['const'], axis=1)"
   ]
  },
  {
   "cell_type": "code",
   "execution_count": 123,
   "id": "76d1854a",
   "metadata": {},
   "outputs": [
    {
     "data": {
      "text/html": [
       "<div>\n",
       "<style scoped>\n",
       "    .dataframe tbody tr th:only-of-type {\n",
       "        vertical-align: middle;\n",
       "    }\n",
       "\n",
       "    .dataframe tbody tr th {\n",
       "        vertical-align: top;\n",
       "    }\n",
       "\n",
       "    .dataframe thead th {\n",
       "        text-align: right;\n",
       "    }\n",
       "</style>\n",
       "<table border=\"1\" class=\"dataframe\">\n",
       "  <thead>\n",
       "    <tr style=\"text-align: right;\">\n",
       "      <th></th>\n",
       "      <th>Features</th>\n",
       "      <th>VIF</th>\n",
       "    </tr>\n",
       "  </thead>\n",
       "  <tbody>\n",
       "    <tr>\n",
       "      <th>10</th>\n",
       "      <td>hum</td>\n",
       "      <td>28.06</td>\n",
       "    </tr>\n",
       "    <tr>\n",
       "      <th>9</th>\n",
       "      <td>temp</td>\n",
       "      <td>16.02</td>\n",
       "    </tr>\n",
       "    <tr>\n",
       "      <th>11</th>\n",
       "      <td>windspeed</td>\n",
       "      <td>4.65</td>\n",
       "    </tr>\n",
       "    <tr>\n",
       "      <th>0</th>\n",
       "      <td>season_spring</td>\n",
       "      <td>4.01</td>\n",
       "    </tr>\n",
       "    <tr>\n",
       "      <th>2</th>\n",
       "      <td>season_winter</td>\n",
       "      <td>3.35</td>\n",
       "    </tr>\n",
       "    <tr>\n",
       "      <th>1</th>\n",
       "      <td>season_summer</td>\n",
       "      <td>2.78</td>\n",
       "    </tr>\n",
       "    <tr>\n",
       "      <th>6</th>\n",
       "      <td>weathersit_Mist &amp; Cloudy</td>\n",
       "      <td>2.28</td>\n",
       "    </tr>\n",
       "    <tr>\n",
       "      <th>7</th>\n",
       "      <td>yr</td>\n",
       "      <td>2.08</td>\n",
       "    </tr>\n",
       "    <tr>\n",
       "      <th>3</th>\n",
       "      <td>mnth_Jul</td>\n",
       "      <td>1.58</td>\n",
       "    </tr>\n",
       "    <tr>\n",
       "      <th>4</th>\n",
       "      <td>mnth_Sep</td>\n",
       "      <td>1.38</td>\n",
       "    </tr>\n",
       "    <tr>\n",
       "      <th>5</th>\n",
       "      <td>weathersit_Light Snow &amp; Rain</td>\n",
       "      <td>1.24</td>\n",
       "    </tr>\n",
       "    <tr>\n",
       "      <th>8</th>\n",
       "      <td>holiday</td>\n",
       "      <td>1.04</td>\n",
       "    </tr>\n",
       "  </tbody>\n",
       "</table>\n",
       "</div>"
      ],
      "text/plain": [
       "                        Features    VIF\n",
       "10                           hum  28.06\n",
       "9                           temp  16.02\n",
       "11                     windspeed   4.65\n",
       "0                  season_spring   4.01\n",
       "2                  season_winter   3.35\n",
       "1                  season_summer   2.78\n",
       "6       weathersit_Mist & Cloudy   2.28\n",
       "7                             yr   2.08\n",
       "3                       mnth_Jul   1.58\n",
       "4                       mnth_Sep   1.38\n",
       "5   weathersit_Light Snow & Rain   1.24\n",
       "8                        holiday   1.04"
      ]
     },
     "execution_count": 123,
     "metadata": {},
     "output_type": "execute_result"
    }
   ],
   "source": [
    "# Calculate the VIFs for the new model again\n",
    "vif = pd.DataFrame()\n",
    "X = X_train_new\n",
    "vif['Features'] = X.columns\n",
    "vif['VIF'] = [variance_inflation_factor(X.values, i) for i in range(X.shape[1])]\n",
    "vif['VIF'] = round(vif['VIF'], 2)\n",
    "vif = vif.sort_values(by = \"VIF\", ascending = False)\n",
    "vif"
   ]
  },
  {
   "cell_type": "markdown",
   "id": "15e7a20d",
   "metadata": {},
   "source": [
    "Dropping **hum** variable as it has high vif :"
   ]
  },
  {
   "cell_type": "code",
   "execution_count": 124,
   "id": "5e61cbf3",
   "metadata": {},
   "outputs": [],
   "source": [
    "### dropping hum from the model\n",
    "X_train_new = X_train_new.drop(['hum'], axis=1)"
   ]
  },
  {
   "cell_type": "markdown",
   "id": "76ae10e9",
   "metadata": {},
   "source": [
    "### Model 3 :"
   ]
  },
  {
   "cell_type": "code",
   "execution_count": 125,
   "id": "b8400567",
   "metadata": {},
   "outputs": [],
   "source": [
    "# Adding a constant variable \n",
    "X_train_lm = sm.add_constant(X_train_new)\n",
    "\n",
    "# Create a first fitted model\n",
    "lm = sm.OLS(y_train,X_train_lm).fit() "
   ]
  },
  {
   "cell_type": "code",
   "execution_count": 126,
   "id": "62adff1b",
   "metadata": {},
   "outputs": [
    {
     "name": "stdout",
     "output_type": "stream",
     "text": [
      "                            OLS Regression Results                            \n",
      "==============================================================================\n",
      "Dep. Variable:                    cnt   R-squared:                       0.836\n",
      "Model:                            OLS   Adj. R-squared:                  0.832\n",
      "Method:                 Least Squares   F-statistic:                     230.4\n",
      "Date:                Wed, 09 Feb 2022   Prob (F-statistic):          2.40e-187\n",
      "Time:                        21:12:36   Log-Likelihood:                 499.17\n",
      "No. Observations:                 510   AIC:                            -974.3\n",
      "Df Residuals:                     498   BIC:                            -923.5\n",
      "Df Model:                          11                                         \n",
      "Covariance Type:            nonrobust                                         \n",
      "================================================================================================\n",
      "                                   coef    std err          t      P>|t|      [0.025      0.975]\n",
      "------------------------------------------------------------------------------------------------\n",
      "const                            0.1996      0.030      6.758      0.000       0.142       0.258\n",
      "season_spring                   -0.0669      0.021     -3.167      0.002      -0.108      -0.025\n",
      "season_summer                    0.0453      0.015      2.971      0.003       0.015       0.075\n",
      "season_winter                    0.0831      0.017      4.818      0.000       0.049       0.117\n",
      "mnth_Jul                        -0.0524      0.019     -2.811      0.005      -0.089      -0.016\n",
      "mnth_Sep                         0.0767      0.017      4.511      0.000       0.043       0.110\n",
      "weathersit_Light Snow & Rain    -0.2852      0.025    -11.536      0.000      -0.334      -0.237\n",
      "weathersit_Mist & Cloudy        -0.0816      0.009     -9.301      0.000      -0.099      -0.064\n",
      "yr                               0.2335      0.008     28.361      0.000       0.217       0.250\n",
      "holiday                         -0.0980      0.026     -3.761      0.000      -0.149      -0.047\n",
      "temp                             0.4915      0.033     14.798      0.000       0.426       0.557\n",
      "windspeed                       -0.1480      0.025     -5.893      0.000      -0.197      -0.099\n",
      "==============================================================================\n",
      "Omnibus:                       59.298   Durbin-Watson:                   2.041\n",
      "Prob(Omnibus):                  0.000   Jarque-Bera (JB):              135.189\n",
      "Skew:                          -0.628   Prob(JB):                     4.41e-30\n",
      "Kurtosis:                       5.187   Cond. No.                         17.3\n",
      "==============================================================================\n",
      "\n",
      "Notes:\n",
      "[1] Standard Errors assume that the covariance matrix of the errors is correctly specified.\n"
     ]
    }
   ],
   "source": [
    "# Check the summary\n",
    "print(lm.summary())"
   ]
  },
  {
   "cell_type": "code",
   "execution_count": 127,
   "id": "a305791c",
   "metadata": {},
   "outputs": [
    {
     "data": {
      "text/html": [
       "<div>\n",
       "<style scoped>\n",
       "    .dataframe tbody tr th:only-of-type {\n",
       "        vertical-align: middle;\n",
       "    }\n",
       "\n",
       "    .dataframe tbody tr th {\n",
       "        vertical-align: top;\n",
       "    }\n",
       "\n",
       "    .dataframe thead th {\n",
       "        text-align: right;\n",
       "    }\n",
       "</style>\n",
       "<table border=\"1\" class=\"dataframe\">\n",
       "  <thead>\n",
       "    <tr style=\"text-align: right;\">\n",
       "      <th></th>\n",
       "      <th>Features</th>\n",
       "      <th>VIF</th>\n",
       "    </tr>\n",
       "  </thead>\n",
       "  <tbody>\n",
       "    <tr>\n",
       "      <th>9</th>\n",
       "      <td>temp</td>\n",
       "      <td>5.09</td>\n",
       "    </tr>\n",
       "    <tr>\n",
       "      <th>10</th>\n",
       "      <td>windspeed</td>\n",
       "      <td>4.60</td>\n",
       "    </tr>\n",
       "    <tr>\n",
       "      <th>1</th>\n",
       "      <td>season_summer</td>\n",
       "      <td>2.21</td>\n",
       "    </tr>\n",
       "    <tr>\n",
       "      <th>0</th>\n",
       "      <td>season_spring</td>\n",
       "      <td>2.08</td>\n",
       "    </tr>\n",
       "    <tr>\n",
       "      <th>7</th>\n",
       "      <td>yr</td>\n",
       "      <td>2.07</td>\n",
       "    </tr>\n",
       "    <tr>\n",
       "      <th>2</th>\n",
       "      <td>season_winter</td>\n",
       "      <td>1.79</td>\n",
       "    </tr>\n",
       "    <tr>\n",
       "      <th>3</th>\n",
       "      <td>mnth_Jul</td>\n",
       "      <td>1.58</td>\n",
       "    </tr>\n",
       "    <tr>\n",
       "      <th>6</th>\n",
       "      <td>weathersit_Mist &amp; Cloudy</td>\n",
       "      <td>1.55</td>\n",
       "    </tr>\n",
       "    <tr>\n",
       "      <th>4</th>\n",
       "      <td>mnth_Sep</td>\n",
       "      <td>1.34</td>\n",
       "    </tr>\n",
       "    <tr>\n",
       "      <th>5</th>\n",
       "      <td>weathersit_Light Snow &amp; Rain</td>\n",
       "      <td>1.08</td>\n",
       "    </tr>\n",
       "    <tr>\n",
       "      <th>8</th>\n",
       "      <td>holiday</td>\n",
       "      <td>1.04</td>\n",
       "    </tr>\n",
       "  </tbody>\n",
       "</table>\n",
       "</div>"
      ],
      "text/plain": [
       "                        Features   VIF\n",
       "9                           temp  5.09\n",
       "10                     windspeed  4.60\n",
       "1                  season_summer  2.21\n",
       "0                  season_spring  2.08\n",
       "7                             yr  2.07\n",
       "2                  season_winter  1.79\n",
       "3                       mnth_Jul  1.58\n",
       "6       weathersit_Mist & Cloudy  1.55\n",
       "4                       mnth_Sep  1.34\n",
       "5   weathersit_Light Snow & Rain  1.08\n",
       "8                        holiday  1.04"
      ]
     },
     "execution_count": 127,
     "metadata": {},
     "output_type": "execute_result"
    }
   ],
   "source": [
    "# Calculate the VIFs for the new model again\n",
    "vif = pd.DataFrame()\n",
    "X = X_train_new\n",
    "vif['Features'] = X.columns\n",
    "vif['VIF'] = [variance_inflation_factor(X.values, i) for i in range(X.shape[1])]\n",
    "vif['VIF'] = round(vif['VIF'], 2)\n",
    "vif = vif.sort_values(by = \"VIF\", ascending = False)\n",
    "vif"
   ]
  },
  {
   "cell_type": "markdown",
   "id": "271b1738",
   "metadata": {},
   "source": [
    "#### We can see that the p variables and vif values of variables are in good range . So with this model we can do the predictions,"
   ]
  },
  {
   "cell_type": "markdown",
   "id": "98d9e807",
   "metadata": {},
   "source": [
    "### Residual Analysis of the train data:"
   ]
  },
  {
   "cell_type": "markdown",
   "id": "7086e053",
   "metadata": {},
   "source": [
    "So, now to check if the error terms are also normally distributed (which is infact, one of the major assumptions of linear regression), let us plot the histogram of the error terms and see what it looks like."
   ]
  },
  {
   "cell_type": "code",
   "execution_count": 128,
   "id": "fea12484",
   "metadata": {},
   "outputs": [],
   "source": [
    "y_train_cnt = lm.predict(X_train_lm)"
   ]
  },
  {
   "cell_type": "code",
   "execution_count": 129,
   "id": "3303fe26",
   "metadata": {},
   "outputs": [
    {
     "data": {
      "text/plain": [
       "Text(0.5, 0, 'Errors')"
      ]
     },
     "execution_count": 129,
     "metadata": {},
     "output_type": "execute_result"
    },
    {
     "data": {
      "image/png": "[encoded data removed]",
      "text/plain": [
       "<Figure size 432x288 with 1 Axes>"
      ]
     },
     "metadata": {
      "needs_background": "light"
     },
     "output_type": "display_data"
    }
   ],
   "source": [
    "# Plot the histogram of the error terms\n",
    "fig = plt.figure()\n",
    "sns.distplot((y_train - y_train_cnt), bins = 20)\n",
    "fig.suptitle('Error Terms', fontsize = 20)                  # Plot heading \n",
    "plt.xlabel('Errors', fontsize = 18)  "
   ]
  },
  {
   "cell_type": "markdown",
   "id": "65b435f0",
   "metadata": {},
   "source": [
    "**Observation**\n",
    "\n",
    "we can see that error terms are normally distributed."
   ]
  },
  {
   "cell_type": "markdown",
   "id": "9542403b",
   "metadata": {},
   "source": [
    "### Making Predictions Using the Final Model:"
   ]
  },
  {
   "cell_type": "markdown",
   "id": "dce7c6fb",
   "metadata": {},
   "source": [
    "Applying the scaling on the test sets:"
   ]
  },
  {
   "cell_type": "code",
   "execution_count": 130,
   "id": "3011dc65",
   "metadata": {},
   "outputs": [],
   "source": [
    "num_vars = ['cnt','hum','windspeed','temp','atemp']\n",
    "\n",
    "\n",
    "test[num_vars] = scaler.transform(test[num_vars])"
   ]
  },
  {
   "cell_type": "code",
   "execution_count": 131,
   "id": "2d8816f0",
   "metadata": {},
   "outputs": [
    {
     "data": {
      "text/html": [
       "<div>\n",
       "<style scoped>\n",
       "    .dataframe tbody tr th:only-of-type {\n",
       "        vertical-align: middle;\n",
       "    }\n",
       "\n",
       "    .dataframe tbody tr th {\n",
       "        vertical-align: top;\n",
       "    }\n",
       "\n",
       "    .dataframe thead th {\n",
       "        text-align: right;\n",
       "    }\n",
       "</style>\n",
       "<table border=\"1\" class=\"dataframe\">\n",
       "  <thead>\n",
       "    <tr style=\"text-align: right;\">\n",
       "      <th></th>\n",
       "      <th>season_spring</th>\n",
       "      <th>season_summer</th>\n",
       "      <th>season_winter</th>\n",
       "      <th>mnth_Aug</th>\n",
       "      <th>mnth_Dec</th>\n",
       "      <th>mnth_Feb</th>\n",
       "      <th>mnth_Jan</th>\n",
       "      <th>mnth_Jul</th>\n",
       "      <th>mnth_Jun</th>\n",
       "      <th>mnth_Mar</th>\n",
       "      <th>...</th>\n",
       "      <th>weathersit_Light Snow &amp; Rain</th>\n",
       "      <th>weathersit_Mist &amp; Cloudy</th>\n",
       "      <th>yr</th>\n",
       "      <th>holiday</th>\n",
       "      <th>workingday</th>\n",
       "      <th>temp</th>\n",
       "      <th>atemp</th>\n",
       "      <th>hum</th>\n",
       "      <th>windspeed</th>\n",
       "      <th>cnt</th>\n",
       "    </tr>\n",
       "  </thead>\n",
       "  <tbody>\n",
       "    <tr>\n",
       "      <th>count</th>\n",
       "      <td>219.000000</td>\n",
       "      <td>219.000000</td>\n",
       "      <td>219.000000</td>\n",
       "      <td>219.000000</td>\n",
       "      <td>219.000000</td>\n",
       "      <td>219.000000</td>\n",
       "      <td>219.000000</td>\n",
       "      <td>219.000000</td>\n",
       "      <td>219.000000</td>\n",
       "      <td>219.000000</td>\n",
       "      <td>...</td>\n",
       "      <td>219.000000</td>\n",
       "      <td>219.000000</td>\n",
       "      <td>219.000000</td>\n",
       "      <td>219.000000</td>\n",
       "      <td>219.000000</td>\n",
       "      <td>219.000000</td>\n",
       "      <td>219.000000</td>\n",
       "      <td>219.000000</td>\n",
       "      <td>219.000000</td>\n",
       "      <td>219.000000</td>\n",
       "    </tr>\n",
       "    <tr>\n",
       "      <th>mean</th>\n",
       "      <td>0.255708</td>\n",
       "      <td>0.264840</td>\n",
       "      <td>0.232877</td>\n",
       "      <td>0.059361</td>\n",
       "      <td>0.086758</td>\n",
       "      <td>0.100457</td>\n",
       "      <td>0.077626</td>\n",
       "      <td>0.105023</td>\n",
       "      <td>0.095890</td>\n",
       "      <td>0.054795</td>\n",
       "      <td>...</td>\n",
       "      <td>0.027397</td>\n",
       "      <td>0.319635</td>\n",
       "      <td>0.479452</td>\n",
       "      <td>0.036530</td>\n",
       "      <td>0.698630</td>\n",
       "      <td>0.558941</td>\n",
       "      <td>0.532991</td>\n",
       "      <td>0.638508</td>\n",
       "      <td>0.313350</td>\n",
       "      <td>0.520592</td>\n",
       "    </tr>\n",
       "    <tr>\n",
       "      <th>std</th>\n",
       "      <td>0.437258</td>\n",
       "      <td>0.442259</td>\n",
       "      <td>0.423633</td>\n",
       "      <td>0.236840</td>\n",
       "      <td>0.282125</td>\n",
       "      <td>0.301297</td>\n",
       "      <td>0.268194</td>\n",
       "      <td>0.307285</td>\n",
       "      <td>0.295115</td>\n",
       "      <td>0.228100</td>\n",
       "      <td>...</td>\n",
       "      <td>0.163612</td>\n",
       "      <td>0.467403</td>\n",
       "      <td>0.500722</td>\n",
       "      <td>0.188034</td>\n",
       "      <td>0.459904</td>\n",
       "      <td>0.233698</td>\n",
       "      <td>0.217888</td>\n",
       "      <td>0.148974</td>\n",
       "      <td>0.159947</td>\n",
       "      <td>0.218435</td>\n",
       "    </tr>\n",
       "    <tr>\n",
       "      <th>min</th>\n",
       "      <td>0.000000</td>\n",
       "      <td>0.000000</td>\n",
       "      <td>0.000000</td>\n",
       "      <td>0.000000</td>\n",
       "      <td>0.000000</td>\n",
       "      <td>0.000000</td>\n",
       "      <td>0.000000</td>\n",
       "      <td>0.000000</td>\n",
       "      <td>0.000000</td>\n",
       "      <td>0.000000</td>\n",
       "      <td>...</td>\n",
       "      <td>0.000000</td>\n",
       "      <td>0.000000</td>\n",
       "      <td>0.000000</td>\n",
       "      <td>0.000000</td>\n",
       "      <td>0.000000</td>\n",
       "      <td>0.046591</td>\n",
       "      <td>0.025950</td>\n",
       "      <td>0.261915</td>\n",
       "      <td>-0.042808</td>\n",
       "      <td>0.048205</td>\n",
       "    </tr>\n",
       "    <tr>\n",
       "      <th>25%</th>\n",
       "      <td>0.000000</td>\n",
       "      <td>0.000000</td>\n",
       "      <td>0.000000</td>\n",
       "      <td>0.000000</td>\n",
       "      <td>0.000000</td>\n",
       "      <td>0.000000</td>\n",
       "      <td>0.000000</td>\n",
       "      <td>0.000000</td>\n",
       "      <td>0.000000</td>\n",
       "      <td>0.000000</td>\n",
       "      <td>...</td>\n",
       "      <td>0.000000</td>\n",
       "      <td>0.000000</td>\n",
       "      <td>0.000000</td>\n",
       "      <td>0.000000</td>\n",
       "      <td>0.000000</td>\n",
       "      <td>0.354650</td>\n",
       "      <td>0.344751</td>\n",
       "      <td>0.527265</td>\n",
       "      <td>0.198517</td>\n",
       "      <td>0.377531</td>\n",
       "    </tr>\n",
       "    <tr>\n",
       "      <th>50%</th>\n",
       "      <td>0.000000</td>\n",
       "      <td>0.000000</td>\n",
       "      <td>0.000000</td>\n",
       "      <td>0.000000</td>\n",
       "      <td>0.000000</td>\n",
       "      <td>0.000000</td>\n",
       "      <td>0.000000</td>\n",
       "      <td>0.000000</td>\n",
       "      <td>0.000000</td>\n",
       "      <td>0.000000</td>\n",
       "      <td>...</td>\n",
       "      <td>0.000000</td>\n",
       "      <td>0.000000</td>\n",
       "      <td>0.000000</td>\n",
       "      <td>0.000000</td>\n",
       "      <td>1.000000</td>\n",
       "      <td>0.558691</td>\n",
       "      <td>0.549198</td>\n",
       "      <td>0.627737</td>\n",
       "      <td>0.299459</td>\n",
       "      <td>0.524275</td>\n",
       "    </tr>\n",
       "    <tr>\n",
       "      <th>75%</th>\n",
       "      <td>1.000000</td>\n",
       "      <td>1.000000</td>\n",
       "      <td>0.000000</td>\n",
       "      <td>0.000000</td>\n",
       "      <td>0.000000</td>\n",
       "      <td>0.000000</td>\n",
       "      <td>0.000000</td>\n",
       "      <td>0.000000</td>\n",
       "      <td>0.000000</td>\n",
       "      <td>0.000000</td>\n",
       "      <td>...</td>\n",
       "      <td>0.000000</td>\n",
       "      <td>1.000000</td>\n",
       "      <td>1.000000</td>\n",
       "      <td>0.000000</td>\n",
       "      <td>1.000000</td>\n",
       "      <td>0.759096</td>\n",
       "      <td>0.714132</td>\n",
       "      <td>0.743928</td>\n",
       "      <td>0.403048</td>\n",
       "      <td>0.672745</td>\n",
       "    </tr>\n",
       "    <tr>\n",
       "      <th>max</th>\n",
       "      <td>1.000000</td>\n",
       "      <td>1.000000</td>\n",
       "      <td>1.000000</td>\n",
       "      <td>1.000000</td>\n",
       "      <td>1.000000</td>\n",
       "      <td>1.000000</td>\n",
       "      <td>1.000000</td>\n",
       "      <td>1.000000</td>\n",
       "      <td>1.000000</td>\n",
       "      <td>1.000000</td>\n",
       "      <td>...</td>\n",
       "      <td>1.000000</td>\n",
       "      <td>1.000000</td>\n",
       "      <td>1.000000</td>\n",
       "      <td>1.000000</td>\n",
       "      <td>1.000000</td>\n",
       "      <td>0.984424</td>\n",
       "      <td>0.980934</td>\n",
       "      <td>1.002146</td>\n",
       "      <td>0.807474</td>\n",
       "      <td>0.963300</td>\n",
       "    </tr>\n",
       "  </tbody>\n",
       "</table>\n",
       "<p>8 rows × 30 columns</p>\n",
       "</div>"
      ],
      "text/plain": [
       "       season_spring  season_summer  season_winter    mnth_Aug    mnth_Dec  \\\n",
       "count     219.000000     219.000000     219.000000  219.000000  219.000000   \n",
       "mean        0.255708       0.264840       0.232877    0.059361    0.086758   \n",
       "std         0.437258       0.442259       0.423633    0.236840    0.282125   \n",
       "min         0.000000       0.000000       0.000000    0.000000    0.000000   \n",
       "25%         0.000000       0.000000       0.000000    0.000000    0.000000   \n",
       "50%         0.000000       0.000000       0.000000    0.000000    0.000000   \n",
       "75%         1.000000       1.000000       0.000000    0.000000    0.000000   \n",
       "max         1.000000       1.000000       1.000000    1.000000    1.000000   \n",
       "\n",
       "         mnth_Feb    mnth_Jan    mnth_Jul    mnth_Jun    mnth_Mar  ...  \\\n",
       "count  219.000000  219.000000  219.000000  219.000000  219.000000  ...   \n",
       "mean     0.100457    0.077626    0.105023    0.095890    0.054795  ...   \n",
       "std      0.301297    0.268194    0.307285    0.295115    0.228100  ...   \n",
       "min      0.000000    0.000000    0.000000    0.000000    0.000000  ...   \n",
       "25%      0.000000    0.000000    0.000000    0.000000    0.000000  ...   \n",
       "50%      0.000000    0.000000    0.000000    0.000000    0.000000  ...   \n",
       "75%      0.000000    0.000000    0.000000    0.000000    0.000000  ...   \n",
       "max      1.000000    1.000000    1.000000    1.000000    1.000000  ...   \n",
       "\n",
       "       weathersit_Light Snow & Rain  weathersit_Mist & Cloudy          yr  \\\n",
       "count                    219.000000                219.000000  219.000000   \n",
       "mean                       0.027397                  0.319635    0.479452   \n",
       "std                        0.163612                  0.467403    0.500722   \n",
       "min                        0.000000                  0.000000    0.000000   \n",
       "25%                        0.000000                  0.000000    0.000000   \n",
       "50%                        0.000000                  0.000000    0.000000   \n",
       "75%                        0.000000                  1.000000    1.000000   \n",
       "max                        1.000000                  1.000000    1.000000   \n",
       "\n",
       "          holiday  workingday        temp       atemp         hum   windspeed  \\\n",
       "count  219.000000  219.000000  219.000000  219.000000  219.000000  219.000000   \n",
       "mean     0.036530    0.698630    0.558941    0.532991    0.638508    0.313350   \n",
       "std      0.188034    0.459904    0.233698    0.217888    0.148974    0.159947   \n",
       "min      0.000000    0.000000    0.046591    0.025950    0.261915   -0.042808   \n",
       "25%      0.000000    0.000000    0.354650    0.344751    0.527265    0.198517   \n",
       "50%      0.000000    1.000000    0.558691    0.549198    0.627737    0.299459   \n",
       "75%      0.000000    1.000000    0.759096    0.714132    0.743928    0.403048   \n",
       "max      1.000000    1.000000    0.984424    0.980934    1.002146    0.807474   \n",
       "\n",
       "              cnt  \n",
       "count  219.000000  \n",
       "mean     0.520592  \n",
       "std      0.218435  \n",
       "min      0.048205  \n",
       "25%      0.377531  \n",
       "50%      0.524275  \n",
       "75%      0.672745  \n",
       "max      0.963300  \n",
       "\n",
       "[8 rows x 30 columns]"
      ]
     },
     "execution_count": 131,
     "metadata": {},
     "output_type": "execute_result"
    }
   ],
   "source": [
    "test.describe()"
   ]
  },
  {
   "cell_type": "markdown",
   "id": "506b8dab",
   "metadata": {},
   "source": [
    "***Here we are not using scaler.fit_transform because we should not fit anything to test datset . we should predict the values . so we just transform the variables in the sense of scaling only .***"
   ]
  },
  {
   "cell_type": "markdown",
   "id": "304ad53e",
   "metadata": {},
   "source": [
    "Now that we have fitted the model and checked the normality of error terms, it's time to go ahead and make predictions using the final, i.e. third model."
   ]
  },
  {
   "cell_type": "markdown",
   "id": "640fc5be",
   "metadata": {},
   "source": [
    "#### Dividing into X_test and y_test"
   ]
  },
  {
   "cell_type": "code",
   "execution_count": 132,
   "id": "accae3b4",
   "metadata": {},
   "outputs": [],
   "source": [
    "y_test = test.pop('cnt')\n",
    "X_test = test"
   ]
  },
  {
   "cell_type": "code",
   "execution_count": 133,
   "id": "e7d15341",
   "metadata": {},
   "outputs": [],
   "source": [
    "# Adding constant variable to test dataframe\n",
    "X_test = sm.add_constant(X_test)"
   ]
  },
  {
   "cell_type": "code",
   "execution_count": 134,
   "id": "a28f50ee",
   "metadata": {},
   "outputs": [
    {
     "name": "stdout",
     "output_type": "stream",
     "text": [
      "<class 'pandas.core.frame.DataFrame'>\n",
      "Int64Index: 219 entries, 184 to 72\n",
      "Data columns (total 12 columns):\n",
      " #   Column                        Non-Null Count  Dtype  \n",
      "---  ------                        --------------  -----  \n",
      " 0   const                         219 non-null    float64\n",
      " 1   season_spring                 219 non-null    uint8  \n",
      " 2   season_summer                 219 non-null    uint8  \n",
      " 3   season_winter                 219 non-null    uint8  \n",
      " 4   mnth_Jul                      219 non-null    uint8  \n",
      " 5   mnth_Sep                      219 non-null    uint8  \n",
      " 6   weathersit_Light Snow & Rain  219 non-null    uint8  \n",
      " 7   weathersit_Mist & Cloudy      219 non-null    uint8  \n",
      " 8   yr                            219 non-null    int64  \n",
      " 9   holiday                       219 non-null    int64  \n",
      " 10  temp                          219 non-null    float64\n",
      " 11  windspeed                     219 non-null    float64\n",
      "dtypes: float64(3), int64(2), uint8(7)\n",
      "memory usage: 11.8 KB\n"
     ]
    }
   ],
   "source": [
    "# predicting using values used by the final model\n",
    "test_col = X_train_lm.columns\n",
    "X_test=X_test[test_col[1:]]\n",
    "# Adding constant variable to test dataframe\n",
    "X_test = sm.add_constant(X_test)\n",
    "\n",
    "X_test.info()"
   ]
  },
  {
   "cell_type": "markdown",
   "id": "e977e504",
   "metadata": {},
   "source": [
    "## Model Evaluation:"
   ]
  },
  {
   "cell_type": "code",
   "execution_count": 135,
   "id": "956de8b0",
   "metadata": {},
   "outputs": [],
   "source": [
    "y_pred = lm.predict(X_test)"
   ]
  },
  {
   "cell_type": "markdown",
   "id": "8882b091",
   "metadata": {},
   "source": [
    "**R squared values**"
   ]
  },
  {
   "cell_type": "code",
   "execution_count": 136,
   "id": "d336dc9f",
   "metadata": {},
   "outputs": [
    {
     "data": {
      "text/plain": [
       "0.8049418440982381"
      ]
     },
     "execution_count": 136,
     "metadata": {},
     "output_type": "execute_result"
    }
   ],
   "source": [
    "from sklearn.metrics import r2_score\n",
    "r2_score(y_test, y_pred)"
   ]
  },
  {
   "cell_type": "code",
   "execution_count": 137,
   "id": "7193c097",
   "metadata": {},
   "outputs": [
    {
     "data": {
      "text/plain": [
       "0.009264444750858145"
      ]
     },
     "execution_count": 137,
     "metadata": {},
     "output_type": "execute_result"
    }
   ],
   "source": [
    "from sklearn.metrics import mean_squared_error\n",
    "mse = mean_squared_error(y_test, y_pred)\n",
    "mse"
   ]
  },
  {
   "cell_type": "markdown",
   "id": "c685c16f",
   "metadata": {},
   "source": [
    "### The R square on test and train data are similar . This is a good model."
   ]
  },
  {
   "cell_type": "markdown",
   "id": "76508110",
   "metadata": {},
   "source": [
    "## Model Evaluation"
   ]
  },
  {
   "cell_type": "code",
   "execution_count": 138,
   "id": "b116221a",
   "metadata": {},
   "outputs": [
    {
     "data": {
      "text/plain": [
       "Text(0, 0.5, 'y_pred')"
      ]
     },
     "execution_count": 138,
     "metadata": {},
     "output_type": "execute_result"
    },
    {
     "data": {
      "image/png": "[encoded data removed]",
      "text/plain": [
       "<Figure size 432x288 with 1 Axes>"
      ]
     },
     "metadata": {
      "needs_background": "light"
     },
     "output_type": "display_data"
    }
   ],
   "source": [
    "# Plotting y_test and y_pred to understand the spread\n",
    "\n",
    "fig = plt.figure()\n",
    "plt.scatter(y_test, y_pred)\n",
    "fig.suptitle('y_test vs y_pred', fontsize = 20)              # Plot heading \n",
    "plt.xlabel('y_test', fontsize = 18)                          # X-label\n",
    "plt.ylabel('y_pred', fontsize = 16)      "
   ]
  },
  {
   "cell_type": "code",
   "execution_count": 139,
   "id": "256e5ac8",
   "metadata": {},
   "outputs": [
    {
     "data": {
      "text/html": [
       "<div>\n",
       "<style scoped>\n",
       "    .dataframe tbody tr th:only-of-type {\n",
       "        vertical-align: middle;\n",
       "    }\n",
       "\n",
       "    .dataframe tbody tr th {\n",
       "        vertical-align: top;\n",
       "    }\n",
       "\n",
       "    .dataframe thead th {\n",
       "        text-align: right;\n",
       "    }\n",
       "</style>\n",
       "<table border=\"1\" class=\"dataframe\">\n",
       "  <thead>\n",
       "    <tr style=\"text-align: right;\">\n",
       "      <th></th>\n",
       "      <th>Variables</th>\n",
       "      <th>Coefficient value</th>\n",
       "    </tr>\n",
       "    <tr>\n",
       "      <th>index</th>\n",
       "      <th></th>\n",
       "      <th></th>\n",
       "    </tr>\n",
       "  </thead>\n",
       "  <tbody>\n",
       "    <tr>\n",
       "      <th>10</th>\n",
       "      <td>temp</td>\n",
       "      <td>0.491508</td>\n",
       "    </tr>\n",
       "    <tr>\n",
       "      <th>8</th>\n",
       "      <td>yr</td>\n",
       "      <td>0.233482</td>\n",
       "    </tr>\n",
       "    <tr>\n",
       "      <th>0</th>\n",
       "      <td>const</td>\n",
       "      <td>0.199648</td>\n",
       "    </tr>\n",
       "    <tr>\n",
       "      <th>3</th>\n",
       "      <td>season_winter</td>\n",
       "      <td>0.083084</td>\n",
       "    </tr>\n",
       "    <tr>\n",
       "      <th>5</th>\n",
       "      <td>mnth_Sep</td>\n",
       "      <td>0.076686</td>\n",
       "    </tr>\n",
       "    <tr>\n",
       "      <th>2</th>\n",
       "      <td>season_summer</td>\n",
       "      <td>0.045280</td>\n",
       "    </tr>\n",
       "    <tr>\n",
       "      <th>4</th>\n",
       "      <td>mnth_Jul</td>\n",
       "      <td>-0.052418</td>\n",
       "    </tr>\n",
       "    <tr>\n",
       "      <th>1</th>\n",
       "      <td>season_spring</td>\n",
       "      <td>-0.066942</td>\n",
       "    </tr>\n",
       "    <tr>\n",
       "      <th>7</th>\n",
       "      <td>weathersit_Mist &amp; Cloudy</td>\n",
       "      <td>-0.081558</td>\n",
       "    </tr>\n",
       "    <tr>\n",
       "      <th>9</th>\n",
       "      <td>holiday</td>\n",
       "      <td>-0.098013</td>\n",
       "    </tr>\n",
       "    <tr>\n",
       "      <th>11</th>\n",
       "      <td>windspeed</td>\n",
       "      <td>-0.147977</td>\n",
       "    </tr>\n",
       "    <tr>\n",
       "      <th>6</th>\n",
       "      <td>weathersit_Light Snow &amp; Rain</td>\n",
       "      <td>-0.285155</td>\n",
       "    </tr>\n",
       "  </tbody>\n",
       "</table>\n",
       "</div>"
      ],
      "text/plain": [
       "                          Variables  Coefficient value\n",
       "index                                                 \n",
       "10                             temp           0.491508\n",
       "8                                yr           0.233482\n",
       "0                             const           0.199648\n",
       "3                     season_winter           0.083084\n",
       "5                          mnth_Sep           0.076686\n",
       "2                     season_summer           0.045280\n",
       "4                          mnth_Jul          -0.052418\n",
       "1                     season_spring          -0.066942\n",
       "7          weathersit_Mist & Cloudy          -0.081558\n",
       "9                           holiday          -0.098013\n",
       "11                        windspeed          -0.147977\n",
       "6      weathersit_Light Snow & Rain          -0.285155"
      ]
     },
     "execution_count": 139,
     "metadata": {},
     "output_type": "execute_result"
    }
   ],
   "source": [
    "param = pd.DataFrame(lm.params)\n",
    "param.insert(0,'Variables',param.index)\n",
    "param.rename(columns = {0:'Coefficient value'},inplace = True)\n",
    "param['index'] = list(range(0,12))\n",
    "param.set_index('index',inplace = True)\n",
    "param.sort_values(by = 'Coefficient value',ascending = False,inplace = True)\n",
    "param"
   ]
  },
  {
   "cell_type": "markdown",
   "id": "12770ccd",
   "metadata": {},
   "source": [
    "We can see that the equation of our best fitted line is:\n",
    "\n",
    "***cnt = 0.199648 + 0.491508 X temp + 0.233482 X yr + 0.083084 X seasonWinter - 0.066942 X season Spring + 0.083084 X season_Winter -0.052418 X mnth_Jul + 0.076686 X mnth_Sep -0.285155 X weathersit_Light Snow & Rain -0.081558 X weathersit_Mist & Cloudy -0.098013 X holiday -0.147977X windspeed***"
   ]
  },
  {
   "cell_type": "markdown",
   "id": "df73d09e",
   "metadata": {},
   "source": [
    "**All the positive coefficients like temp,season_Summer indicate that an increase in these values will lead to an increase in the value of cnt.**\n",
    "\n",
    "**All the negative coefficients indicate that an increase in these values will lead to an decrease in the value of cnt.**"
   ]
  },
  {
   "cell_type": "markdown",
   "id": "ce8348da",
   "metadata": {},
   "source": [
    "1) Temp is the most significant with the largest coefficient.\n",
    "\n",
    "2) Followed by weathersit_Light Snow & Rain.\n",
    "\n",
    "3) Bike rentals is more for the month of september\n",
    "\n",
    "4) The rentals reduce during holidays"
   ]
  },
  {
   "cell_type": "markdown",
   "id": "d2c71b96",
   "metadata": {},
   "source": [
    "This indicates that the bike rentals is majorly affected by temperature,season and month."
   ]
  }
 ],
 "metadata": {
  "kernelspec": {
   "display_name": "Python 3",
   "language": "python",
   "name": "python3"
  },
  "language_info": {
   "codemirror_mode": {
    "name": "ipython",
    "version": 3
   },
   "file_extension": ".py",
   "mimetype": "text/x-python",
   "name": "python",
   "nbconvert_exporter": "python",
   "pygments_lexer": "ipython3",
   "version": "3.8.8"
  }
 },
 "nbformat": 4,
 "nbformat_minor": 5
}
